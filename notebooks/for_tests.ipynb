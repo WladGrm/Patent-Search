{
 "cells": [
  {
   "metadata": {
    "ExecuteTime": {
     "end_time": "2024-05-31T22:09:03.461113Z",
     "start_time": "2024-05-31T22:09:03.451624Z"
    }
   },
   "cell_type": "code",
   "source": "from patentScraper import patentScraper\n",
   "id": "e4d06bfefacaa179",
   "outputs": [],
   "execution_count": 3
  },
  {
   "metadata": {
    "ExecuteTime": {
     "end_time": "2024-05-31T22:09:04.831879Z",
     "start_time": "2024-05-31T22:09:04.813539Z"
    }
   },
   "cell_type": "code",
   "source": "ls",
   "id": "f8c65210e5615e60",
   "outputs": [
    {
     "name": "stdout",
     "output_type": "stream",
     "text": [
      " Volume in drive D is Main\n",
      " Volume Serial Number is 8C3B-8606\n",
      "\n",
      " Directory of D:\\Important\\Wlad\\Study\\BMSTU\\patent_search\n",
      "\n",
      "01.06.2024  01:09    <DIR>          .\n",
      "01.06.2024  01:09    <DIR>          ..\n",
      "30.05.2024  18:52               194 .gitattributes\n",
      "01.06.2024  00:59    <DIR>          .idea\n",
      "30.05.2024  23:17    <DIR>          __pycache__\n",
      "30.05.2024  20:44             1я486 app.py\n",
      "30.05.2024  23:17               721 bert.py\n",
      "01.06.2024  01:09           121я086 elasticsearchindexed+bert.ipynb\n",
      "30.05.2024  18:52           391я623 group-16-report-phase1.docx\n",
      "31.05.2024  06:05    <DIR>          indexed\n",
      "31.05.2024  01:09    <DIR>          patentScraper\n",
      "30.05.2024  18:52             2я204 README.md\n",
      "30.05.2024  19:48               473 requirements.txt\n",
      "30.05.2024  18:52               600 run.sh\n",
      "30.05.2024  23:42    <DIR>          templates\n",
      "31.05.2024  05:04               595 test.py\n",
      "31.05.2024  02:33    <DIR>          venv\n",
      "               9 File(s)        518я982 bytes\n",
      "               8 Dir(s)  754я316я128я256 bytes free\n"
     ]
    }
   ],
   "execution_count": 4
  },
  {
   "metadata": {
    "ExecuteTime": {
     "end_time": "2024-05-31T22:09:08.168251Z",
     "start_time": "2024-05-31T22:09:08.156544Z"
    }
   },
   "cell_type": "code",
   "source": "cd patentScraper",
   "id": "780b99eb489aea8b",
   "outputs": [
    {
     "name": "stdout",
     "output_type": "stream",
     "text": [
      "D:\\Important\\Wlad\\Study\\BMSTU\\patent_search\\patentScraper\n"
     ]
    },
    {
     "name": "stderr",
     "output_type": "stream",
     "text": [
      "D:\\Important\\Wlad\\Study\\BMSTU\\patent_search\\venv\\Lib\\site-packages\\IPython\\core\\magics\\osm.py:417: UserWarning: This is now an optional IPython functionality, setting dhist requires you to install the `pickleshare` library.\n",
      "  self.shell.db['dhist'] = compress_dhist(dhist)[-100:]\n"
     ]
    }
   ],
   "execution_count": 5
  },
  {
   "metadata": {
    "ExecuteTime": {
     "end_time": "2024-05-31T08:13:00.628531Z",
     "start_time": "2024-05-31T08:13:00.625824Z"
    }
   },
   "cell_type": "code",
   "source": "cd spiders",
   "id": "1e67500341f39776",
   "outputs": [
    {
     "name": "stdout",
     "output_type": "stream",
     "text": [
      "[WinError 2] The system cannot find the file specified: 'spiders'\n",
      "D:\\Important\\Wlad\\Study\\BMSTU\\patent_search\\patentScraper\\patentScraper\\spiders\n"
     ]
    },
    {
     "name": "stderr",
     "output_type": "stream",
     "text": [
      "D:\\Important\\Wlad\\Study\\BMSTU\\patent_search\\venv\\Lib\\site-packages\\IPython\\core\\magics\\osm.py:393: UserWarning: This is now an optional IPython functionality, using bookmarks requires you to install the `pickleshare` library.\n",
      "  bkms = self.shell.db.get('bookmarks', {})\n"
     ]
    }
   ],
   "execution_count": 46
  },
  {
   "metadata": {
    "ExecuteTime": {
     "end_time": "2024-05-31T22:09:52.695260Z",
     "start_time": "2024-05-31T22:09:51.112338Z"
    }
   },
   "cell_type": "code",
   "source": [
    "import pandas as pd\n",
    "df=pd.read_csv('Combined.csv')\n",
    "df['status']"
   ],
   "id": "fa6a15a51828cf65",
   "outputs": [],
   "execution_count": 7
  },
  {
   "metadata": {
    "ExecuteTime": {
     "end_time": "2024-05-31T08:32:17.445614Z",
     "start_time": "2024-05-31T08:32:17.441734Z"
    }
   },
   "cell_type": "code",
   "source": "df.shape",
   "id": "4a3521552b171555",
   "outputs": [
    {
     "data": {
      "text/plain": [
       "(24859, 8)"
      ]
     },
     "execution_count": 84,
     "metadata": {},
     "output_type": "execute_result"
    }
   ],
   "execution_count": 84
  },
  {
   "metadata": {
    "ExecuteTime": {
     "end_time": "2024-05-31T08:32:18.469218Z",
     "start_time": "2024-05-31T08:32:18.461571Z"
    }
   },
   "cell_type": "code",
   "source": "df=df.drop(df[df.status != (\"Active\" or \"Pending\" or \"Granted\")].index)",
   "id": "d266482322657793",
   "outputs": [],
   "execution_count": 85
  },
  {
   "metadata": {
    "ExecuteTime": {
     "end_time": "2024-05-31T08:32:20.141197Z",
     "start_time": "2024-05-31T08:32:20.137601Z"
    }
   },
   "cell_type": "code",
   "source": "df.shape",
   "id": "73bc72a1f068a4",
   "outputs": [
    {
     "data": {
      "text/plain": [
       "(8360, 8)"
      ]
     },
     "execution_count": 86,
     "metadata": {},
     "output_type": "execute_result"
    }
   ],
   "execution_count": 86
  },
  {
   "metadata": {
    "ExecuteTime": {
     "end_time": "2024-05-31T08:34:07.742780Z",
     "start_time": "2024-05-31T08:34:07.735921Z"
    }
   },
   "cell_type": "code",
   "source": "df",
   "id": "dc2148673d4c6429",
   "outputs": [
    {
     "data": {
      "text/plain": [
       "                                               self_link  \\\n",
       "0       https://patents.google.com/patent/JP5522034B2/en   \n",
       "4       https://patents.google.com/patent/JP5090871B2/en   \n",
       "5       https://patents.google.com/patent/JP5177835B2/en   \n",
       "6       https://patents.google.com/patent/JP6247200B2/en   \n",
       "7      https://patents.google.com/patent/CN106061689B/en   \n",
       "...                                                  ...   \n",
       "24804   https://patents.google.com/patent/JP6454857B2/en   \n",
       "24812   https://patents.google.com/patent/JP7124880B2/en   \n",
       "24829   https://patents.google.com/patent/JP5085907B2/en   \n",
       "24845  https://patents.google.com/patent/CN112099626B/en   \n",
       "24852  https://patents.google.com/patent/CN110531952B/en   \n",
       "\n",
       "                                                   title  \\\n",
       "0                                           Robot system   \n",
       "4                                        Robot equipment   \n",
       "5                           Double-arm robot manipulator   \n",
       "6      Tool adapter for robot wrist and robot with to...   \n",
       "7      Manipulator, robot and workpiece method of ope...   \n",
       "...                                                  ...   \n",
       "24804  Posture detection apparatus and posture detect...   \n",
       "24812                                       robot system   \n",
       "24829               Jack control device for work vehicle   \n",
       "24845  Interface display method, interface display de...   \n",
       "24852  Voice skill processing method, device and equi...   \n",
       "\n",
       "                                                abstract publication_number  \\\n",
       "0                                                    NaN        JP5522034B2   \n",
       "4                                                    NaN        JP5090871B2   \n",
       "5                                                    NaN        JP5177835B2   \n",
       "6                                                    NaN        JP6247200B2   \n",
       "7      The present invention relates to a kind of man...       CN106061689B   \n",
       "...                                                  ...                ...   \n",
       "24804                                                NaN        JP6454857B2   \n",
       "24812                                                NaN        JP7124880B2   \n",
       "24829                                                NaN        JP5085907B2   \n",
       "24845  The application discloses an interface display...       CN112099626B   \n",
       "24852  The application discloses a processing method,...       CN110531952B   \n",
       "\n",
       "             date    inventors  \\\n",
       "0      2009-03-13   雅人 伊藤,学 岡久   \n",
       "4      2007-11-27        和宏 埴谷   \n",
       "5      2007-04-27   雅人 伊藤,学 岡久   \n",
       "6      2014-12-10  賢明 加藤,賢明 加藤   \n",
       "7      2014-02-28    扫部雅幸,高山裕规   \n",
       "...           ...          ...   \n",
       "24804  2015-05-27  秀夫 熊谷,秀夫 熊谷   \n",
       "24812  2018-10-16   毅 伊藤,公徳 西村   \n",
       "24829  2006-09-28        孝明 大葉   \n",
       "24845  2020-09-01           韩桐   \n",
       "24852  2019-08-30          戚耀文   \n",
       "\n",
       "                                     current_assignee  status  \n",
       "0                               Yaskawa Electric Corp  Active  \n",
       "4                               Yaskawa Electric Corp  Active  \n",
       "5                               Yaskawa Electric Corp  Active  \n",
       "6                                          FANUC Corp  Active  \n",
       "7                                 Kawasaki Motors Ltd  Active  \n",
       "...                                               ...     ...  \n",
       "24804                           Tamagawa Seiki Co Ltd  Active  \n",
       "24812                           Yaskawa Electric Corp  Active  \n",
       "24829                                      Aichi Corp  Active  \n",
       "24845                Vivo Mobile Communication Co Ltd  Active  \n",
       "24852  Baidu Online Network Technology Beijing Co Ltd  Active  \n",
       "\n",
       "[8360 rows x 8 columns]"
      ],
      "text/html": [
       "<div>\n",
       "<style scoped>\n",
       "    .dataframe tbody tr th:only-of-type {\n",
       "        vertical-align: middle;\n",
       "    }\n",
       "\n",
       "    .dataframe tbody tr th {\n",
       "        vertical-align: top;\n",
       "    }\n",
       "\n",
       "    .dataframe thead th {\n",
       "        text-align: right;\n",
       "    }\n",
       "</style>\n",
       "<table border=\"1\" class=\"dataframe\">\n",
       "  <thead>\n",
       "    <tr style=\"text-align: right;\">\n",
       "      <th></th>\n",
       "      <th>self_link</th>\n",
       "      <th>title</th>\n",
       "      <th>abstract</th>\n",
       "      <th>publication_number</th>\n",
       "      <th>date</th>\n",
       "      <th>inventors</th>\n",
       "      <th>current_assignee</th>\n",
       "      <th>status</th>\n",
       "    </tr>\n",
       "  </thead>\n",
       "  <tbody>\n",
       "    <tr>\n",
       "      <th>0</th>\n",
       "      <td>https://patents.google.com/patent/JP5522034B2/en</td>\n",
       "      <td>Robot system</td>\n",
       "      <td>NaN</td>\n",
       "      <td>JP5522034B2</td>\n",
       "      <td>2009-03-13</td>\n",
       "      <td>雅人 伊藤,学 岡久</td>\n",
       "      <td>Yaskawa Electric Corp</td>\n",
       "      <td>Active</td>\n",
       "    </tr>\n",
       "    <tr>\n",
       "      <th>4</th>\n",
       "      <td>https://patents.google.com/patent/JP5090871B2/en</td>\n",
       "      <td>Robot equipment</td>\n",
       "      <td>NaN</td>\n",
       "      <td>JP5090871B2</td>\n",
       "      <td>2007-11-27</td>\n",
       "      <td>和宏 埴谷</td>\n",
       "      <td>Yaskawa Electric Corp</td>\n",
       "      <td>Active</td>\n",
       "    </tr>\n",
       "    <tr>\n",
       "      <th>5</th>\n",
       "      <td>https://patents.google.com/patent/JP5177835B2/en</td>\n",
       "      <td>Double-arm robot manipulator</td>\n",
       "      <td>NaN</td>\n",
       "      <td>JP5177835B2</td>\n",
       "      <td>2007-04-27</td>\n",
       "      <td>雅人 伊藤,学 岡久</td>\n",
       "      <td>Yaskawa Electric Corp</td>\n",
       "      <td>Active</td>\n",
       "    </tr>\n",
       "    <tr>\n",
       "      <th>6</th>\n",
       "      <td>https://patents.google.com/patent/JP6247200B2/en</td>\n",
       "      <td>Tool adapter for robot wrist and robot with to...</td>\n",
       "      <td>NaN</td>\n",
       "      <td>JP6247200B2</td>\n",
       "      <td>2014-12-10</td>\n",
       "      <td>賢明 加藤,賢明 加藤</td>\n",
       "      <td>FANUC Corp</td>\n",
       "      <td>Active</td>\n",
       "    </tr>\n",
       "    <tr>\n",
       "      <th>7</th>\n",
       "      <td>https://patents.google.com/patent/CN106061689B/en</td>\n",
       "      <td>Manipulator, robot and workpiece method of ope...</td>\n",
       "      <td>The present invention relates to a kind of man...</td>\n",
       "      <td>CN106061689B</td>\n",
       "      <td>2014-02-28</td>\n",
       "      <td>扫部雅幸,高山裕规</td>\n",
       "      <td>Kawasaki Motors Ltd</td>\n",
       "      <td>Active</td>\n",
       "    </tr>\n",
       "    <tr>\n",
       "      <th>...</th>\n",
       "      <td>...</td>\n",
       "      <td>...</td>\n",
       "      <td>...</td>\n",
       "      <td>...</td>\n",
       "      <td>...</td>\n",
       "      <td>...</td>\n",
       "      <td>...</td>\n",
       "      <td>...</td>\n",
       "    </tr>\n",
       "    <tr>\n",
       "      <th>24804</th>\n",
       "      <td>https://patents.google.com/patent/JP6454857B2/en</td>\n",
       "      <td>Posture detection apparatus and posture detect...</td>\n",
       "      <td>NaN</td>\n",
       "      <td>JP6454857B2</td>\n",
       "      <td>2015-05-27</td>\n",
       "      <td>秀夫 熊谷,秀夫 熊谷</td>\n",
       "      <td>Tamagawa Seiki Co Ltd</td>\n",
       "      <td>Active</td>\n",
       "    </tr>\n",
       "    <tr>\n",
       "      <th>24812</th>\n",
       "      <td>https://patents.google.com/patent/JP7124880B2/en</td>\n",
       "      <td>robot system</td>\n",
       "      <td>NaN</td>\n",
       "      <td>JP7124880B2</td>\n",
       "      <td>2018-10-16</td>\n",
       "      <td>毅 伊藤,公徳 西村</td>\n",
       "      <td>Yaskawa Electric Corp</td>\n",
       "      <td>Active</td>\n",
       "    </tr>\n",
       "    <tr>\n",
       "      <th>24829</th>\n",
       "      <td>https://patents.google.com/patent/JP5085907B2/en</td>\n",
       "      <td>Jack control device for work vehicle</td>\n",
       "      <td>NaN</td>\n",
       "      <td>JP5085907B2</td>\n",
       "      <td>2006-09-28</td>\n",
       "      <td>孝明 大葉</td>\n",
       "      <td>Aichi Corp</td>\n",
       "      <td>Active</td>\n",
       "    </tr>\n",
       "    <tr>\n",
       "      <th>24845</th>\n",
       "      <td>https://patents.google.com/patent/CN112099626B/en</td>\n",
       "      <td>Interface display method, interface display de...</td>\n",
       "      <td>The application discloses an interface display...</td>\n",
       "      <td>CN112099626B</td>\n",
       "      <td>2020-09-01</td>\n",
       "      <td>韩桐</td>\n",
       "      <td>Vivo Mobile Communication Co Ltd</td>\n",
       "      <td>Active</td>\n",
       "    </tr>\n",
       "    <tr>\n",
       "      <th>24852</th>\n",
       "      <td>https://patents.google.com/patent/CN110531952B/en</td>\n",
       "      <td>Voice skill processing method, device and equi...</td>\n",
       "      <td>The application discloses a processing method,...</td>\n",
       "      <td>CN110531952B</td>\n",
       "      <td>2019-08-30</td>\n",
       "      <td>戚耀文</td>\n",
       "      <td>Baidu Online Network Technology Beijing Co Ltd</td>\n",
       "      <td>Active</td>\n",
       "    </tr>\n",
       "  </tbody>\n",
       "</table>\n",
       "<p>8360 rows × 8 columns</p>\n",
       "</div>"
      ]
     },
     "execution_count": 88,
     "metadata": {},
     "output_type": "execute_result"
    }
   ],
   "execution_count": 88
  },
  {
   "metadata": {
    "ExecuteTime": {
     "end_time": "2024-05-31T08:36:22.793912Z",
     "start_time": "2024-05-31T08:36:22.637153Z"
    }
   },
   "cell_type": "code",
   "source": "df.to_csv('D:\\Important\\Wlad\\Study\\BMSTU\\patent_search\\patentScraper\\patentScraper\\spiders')",
   "id": "281afd141663275c",
   "outputs": [
    {
     "ename": "PermissionError",
     "evalue": "[Errno 13] Permission denied: 'D:\\\\Important\\\\Wlad\\\\Study\\\\BMSTU\\\\patent_search\\\\patentScraper\\\\patentScraper\\\\spiders'",
     "output_type": "error",
     "traceback": [
      "\u001B[1;31m---------------------------------------------------------------------------\u001B[0m",
      "\u001B[1;31mPermissionError\u001B[0m                           Traceback (most recent call last)",
      "Cell \u001B[1;32mIn[91], line 1\u001B[0m\n\u001B[1;32m----> 1\u001B[0m \u001B[43mdf\u001B[49m\u001B[38;5;241;43m.\u001B[39;49m\u001B[43mto_csv\u001B[49m\u001B[43m(\u001B[49m\u001B[38;5;124;43m'\u001B[39;49m\u001B[38;5;124;43mD:\u001B[39;49m\u001B[38;5;124;43m\\\u001B[39;49m\u001B[38;5;124;43mImportant\u001B[39;49m\u001B[38;5;124;43m\\\u001B[39;49m\u001B[38;5;124;43mWlad\u001B[39;49m\u001B[38;5;124;43m\\\u001B[39;49m\u001B[38;5;124;43mStudy\u001B[39;49m\u001B[38;5;124;43m\\\u001B[39;49m\u001B[38;5;124;43mBMSTU\u001B[39;49m\u001B[38;5;124;43m\\\u001B[39;49m\u001B[38;5;124;43mpatent_search\u001B[39;49m\u001B[38;5;124;43m\\\u001B[39;49m\u001B[38;5;124;43mpatentScraper\u001B[39;49m\u001B[38;5;124;43m\\\u001B[39;49m\u001B[38;5;124;43mpatentScraper\u001B[39;49m\u001B[38;5;124;43m\\\u001B[39;49m\u001B[38;5;124;43mspiders\u001B[39;49m\u001B[38;5;124;43m'\u001B[39;49m\u001B[43m)\u001B[49m\n",
      "File \u001B[1;32mD:\\Important\\Wlad\\Study\\BMSTU\\patent_search\\venv\\Lib\\site-packages\\pandas\\util\\_decorators.py:211\u001B[0m, in \u001B[0;36mdeprecate_kwarg.<locals>._deprecate_kwarg.<locals>.wrapper\u001B[1;34m(*args, **kwargs)\u001B[0m\n\u001B[0;32m    209\u001B[0m     \u001B[38;5;28;01melse\u001B[39;00m:\n\u001B[0;32m    210\u001B[0m         kwargs[new_arg_name] \u001B[38;5;241m=\u001B[39m new_arg_value\n\u001B[1;32m--> 211\u001B[0m \u001B[38;5;28;01mreturn\u001B[39;00m \u001B[43mfunc\u001B[49m\u001B[43m(\u001B[49m\u001B[38;5;241;43m*\u001B[39;49m\u001B[43margs\u001B[49m\u001B[43m,\u001B[49m\u001B[43m \u001B[49m\u001B[38;5;241;43m*\u001B[39;49m\u001B[38;5;241;43m*\u001B[39;49m\u001B[43mkwargs\u001B[49m\u001B[43m)\u001B[49m\n",
      "File \u001B[1;32mD:\\Important\\Wlad\\Study\\BMSTU\\patent_search\\venv\\Lib\\site-packages\\pandas\\core\\generic.py:3720\u001B[0m, in \u001B[0;36mNDFrame.to_csv\u001B[1;34m(self, path_or_buf, sep, na_rep, float_format, columns, header, index, index_label, mode, encoding, compression, quoting, quotechar, lineterminator, chunksize, date_format, doublequote, escapechar, decimal, errors, storage_options)\u001B[0m\n\u001B[0;32m   3709\u001B[0m df \u001B[38;5;241m=\u001B[39m \u001B[38;5;28mself\u001B[39m \u001B[38;5;28;01mif\u001B[39;00m \u001B[38;5;28misinstance\u001B[39m(\u001B[38;5;28mself\u001B[39m, ABCDataFrame) \u001B[38;5;28;01melse\u001B[39;00m \u001B[38;5;28mself\u001B[39m\u001B[38;5;241m.\u001B[39mto_frame()\n\u001B[0;32m   3711\u001B[0m formatter \u001B[38;5;241m=\u001B[39m DataFrameFormatter(\n\u001B[0;32m   3712\u001B[0m     frame\u001B[38;5;241m=\u001B[39mdf,\n\u001B[0;32m   3713\u001B[0m     header\u001B[38;5;241m=\u001B[39mheader,\n\u001B[1;32m   (...)\u001B[0m\n\u001B[0;32m   3717\u001B[0m     decimal\u001B[38;5;241m=\u001B[39mdecimal,\n\u001B[0;32m   3718\u001B[0m )\n\u001B[1;32m-> 3720\u001B[0m \u001B[38;5;28;01mreturn\u001B[39;00m \u001B[43mDataFrameRenderer\u001B[49m\u001B[43m(\u001B[49m\u001B[43mformatter\u001B[49m\u001B[43m)\u001B[49m\u001B[38;5;241;43m.\u001B[39;49m\u001B[43mto_csv\u001B[49m\u001B[43m(\u001B[49m\n\u001B[0;32m   3721\u001B[0m \u001B[43m    \u001B[49m\u001B[43mpath_or_buf\u001B[49m\u001B[43m,\u001B[49m\n\u001B[0;32m   3722\u001B[0m \u001B[43m    \u001B[49m\u001B[43mlineterminator\u001B[49m\u001B[38;5;241;43m=\u001B[39;49m\u001B[43mlineterminator\u001B[49m\u001B[43m,\u001B[49m\n\u001B[0;32m   3723\u001B[0m \u001B[43m    \u001B[49m\u001B[43msep\u001B[49m\u001B[38;5;241;43m=\u001B[39;49m\u001B[43msep\u001B[49m\u001B[43m,\u001B[49m\n\u001B[0;32m   3724\u001B[0m \u001B[43m    \u001B[49m\u001B[43mencoding\u001B[49m\u001B[38;5;241;43m=\u001B[39;49m\u001B[43mencoding\u001B[49m\u001B[43m,\u001B[49m\n\u001B[0;32m   3725\u001B[0m \u001B[43m    \u001B[49m\u001B[43merrors\u001B[49m\u001B[38;5;241;43m=\u001B[39;49m\u001B[43merrors\u001B[49m\u001B[43m,\u001B[49m\n\u001B[0;32m   3726\u001B[0m \u001B[43m    \u001B[49m\u001B[43mcompression\u001B[49m\u001B[38;5;241;43m=\u001B[39;49m\u001B[43mcompression\u001B[49m\u001B[43m,\u001B[49m\n\u001B[0;32m   3727\u001B[0m \u001B[43m    \u001B[49m\u001B[43mquoting\u001B[49m\u001B[38;5;241;43m=\u001B[39;49m\u001B[43mquoting\u001B[49m\u001B[43m,\u001B[49m\n\u001B[0;32m   3728\u001B[0m \u001B[43m    \u001B[49m\u001B[43mcolumns\u001B[49m\u001B[38;5;241;43m=\u001B[39;49m\u001B[43mcolumns\u001B[49m\u001B[43m,\u001B[49m\n\u001B[0;32m   3729\u001B[0m \u001B[43m    \u001B[49m\u001B[43mindex_label\u001B[49m\u001B[38;5;241;43m=\u001B[39;49m\u001B[43mindex_label\u001B[49m\u001B[43m,\u001B[49m\n\u001B[0;32m   3730\u001B[0m \u001B[43m    \u001B[49m\u001B[43mmode\u001B[49m\u001B[38;5;241;43m=\u001B[39;49m\u001B[43mmode\u001B[49m\u001B[43m,\u001B[49m\n\u001B[0;32m   3731\u001B[0m \u001B[43m    \u001B[49m\u001B[43mchunksize\u001B[49m\u001B[38;5;241;43m=\u001B[39;49m\u001B[43mchunksize\u001B[49m\u001B[43m,\u001B[49m\n\u001B[0;32m   3732\u001B[0m \u001B[43m    \u001B[49m\u001B[43mquotechar\u001B[49m\u001B[38;5;241;43m=\u001B[39;49m\u001B[43mquotechar\u001B[49m\u001B[43m,\u001B[49m\n\u001B[0;32m   3733\u001B[0m \u001B[43m    \u001B[49m\u001B[43mdate_format\u001B[49m\u001B[38;5;241;43m=\u001B[39;49m\u001B[43mdate_format\u001B[49m\u001B[43m,\u001B[49m\n\u001B[0;32m   3734\u001B[0m \u001B[43m    \u001B[49m\u001B[43mdoublequote\u001B[49m\u001B[38;5;241;43m=\u001B[39;49m\u001B[43mdoublequote\u001B[49m\u001B[43m,\u001B[49m\n\u001B[0;32m   3735\u001B[0m \u001B[43m    \u001B[49m\u001B[43mescapechar\u001B[49m\u001B[38;5;241;43m=\u001B[39;49m\u001B[43mescapechar\u001B[49m\u001B[43m,\u001B[49m\n\u001B[0;32m   3736\u001B[0m \u001B[43m    \u001B[49m\u001B[43mstorage_options\u001B[49m\u001B[38;5;241;43m=\u001B[39;49m\u001B[43mstorage_options\u001B[49m\u001B[43m,\u001B[49m\n\u001B[0;32m   3737\u001B[0m \u001B[43m\u001B[49m\u001B[43m)\u001B[49m\n",
      "File \u001B[1;32mD:\\Important\\Wlad\\Study\\BMSTU\\patent_search\\venv\\Lib\\site-packages\\pandas\\util\\_decorators.py:211\u001B[0m, in \u001B[0;36mdeprecate_kwarg.<locals>._deprecate_kwarg.<locals>.wrapper\u001B[1;34m(*args, **kwargs)\u001B[0m\n\u001B[0;32m    209\u001B[0m     \u001B[38;5;28;01melse\u001B[39;00m:\n\u001B[0;32m    210\u001B[0m         kwargs[new_arg_name] \u001B[38;5;241m=\u001B[39m new_arg_value\n\u001B[1;32m--> 211\u001B[0m \u001B[38;5;28;01mreturn\u001B[39;00m \u001B[43mfunc\u001B[49m\u001B[43m(\u001B[49m\u001B[38;5;241;43m*\u001B[39;49m\u001B[43margs\u001B[49m\u001B[43m,\u001B[49m\u001B[43m \u001B[49m\u001B[38;5;241;43m*\u001B[39;49m\u001B[38;5;241;43m*\u001B[39;49m\u001B[43mkwargs\u001B[49m\u001B[43m)\u001B[49m\n",
      "File \u001B[1;32mD:\\Important\\Wlad\\Study\\BMSTU\\patent_search\\venv\\Lib\\site-packages\\pandas\\io\\formats\\format.py:1189\u001B[0m, in \u001B[0;36mDataFrameRenderer.to_csv\u001B[1;34m(self, path_or_buf, encoding, sep, columns, index_label, mode, compression, quoting, quotechar, lineterminator, chunksize, date_format, doublequote, escapechar, errors, storage_options)\u001B[0m\n\u001B[0;32m   1168\u001B[0m     created_buffer \u001B[38;5;241m=\u001B[39m \u001B[38;5;28;01mFalse\u001B[39;00m\n\u001B[0;32m   1170\u001B[0m csv_formatter \u001B[38;5;241m=\u001B[39m CSVFormatter(\n\u001B[0;32m   1171\u001B[0m     path_or_buf\u001B[38;5;241m=\u001B[39mpath_or_buf,\n\u001B[0;32m   1172\u001B[0m     lineterminator\u001B[38;5;241m=\u001B[39mlineterminator,\n\u001B[1;32m   (...)\u001B[0m\n\u001B[0;32m   1187\u001B[0m     formatter\u001B[38;5;241m=\u001B[39m\u001B[38;5;28mself\u001B[39m\u001B[38;5;241m.\u001B[39mfmt,\n\u001B[0;32m   1188\u001B[0m )\n\u001B[1;32m-> 1189\u001B[0m \u001B[43mcsv_formatter\u001B[49m\u001B[38;5;241;43m.\u001B[39;49m\u001B[43msave\u001B[49m\u001B[43m(\u001B[49m\u001B[43m)\u001B[49m\n\u001B[0;32m   1191\u001B[0m \u001B[38;5;28;01mif\u001B[39;00m created_buffer:\n\u001B[0;32m   1192\u001B[0m     \u001B[38;5;28;01massert\u001B[39;00m \u001B[38;5;28misinstance\u001B[39m(path_or_buf, StringIO)\n",
      "File \u001B[1;32mD:\\Important\\Wlad\\Study\\BMSTU\\patent_search\\venv\\Lib\\site-packages\\pandas\\io\\formats\\csvs.py:241\u001B[0m, in \u001B[0;36mCSVFormatter.save\u001B[1;34m(self)\u001B[0m\n\u001B[0;32m    237\u001B[0m \u001B[38;5;250m\u001B[39m\u001B[38;5;124;03m\"\"\"\u001B[39;00m\n\u001B[0;32m    238\u001B[0m \u001B[38;5;124;03mCreate the writer & save.\u001B[39;00m\n\u001B[0;32m    239\u001B[0m \u001B[38;5;124;03m\"\"\"\u001B[39;00m\n\u001B[0;32m    240\u001B[0m \u001B[38;5;66;03m# apply compression and byte/text conversion\u001B[39;00m\n\u001B[1;32m--> 241\u001B[0m \u001B[38;5;28;01mwith\u001B[39;00m \u001B[43mget_handle\u001B[49m\u001B[43m(\u001B[49m\n\u001B[0;32m    242\u001B[0m \u001B[43m    \u001B[49m\u001B[38;5;28;43mself\u001B[39;49m\u001B[38;5;241;43m.\u001B[39;49m\u001B[43mfilepath_or_buffer\u001B[49m\u001B[43m,\u001B[49m\n\u001B[0;32m    243\u001B[0m \u001B[43m    \u001B[49m\u001B[38;5;28;43mself\u001B[39;49m\u001B[38;5;241;43m.\u001B[39;49m\u001B[43mmode\u001B[49m\u001B[43m,\u001B[49m\n\u001B[0;32m    244\u001B[0m \u001B[43m    \u001B[49m\u001B[43mencoding\u001B[49m\u001B[38;5;241;43m=\u001B[39;49m\u001B[38;5;28;43mself\u001B[39;49m\u001B[38;5;241;43m.\u001B[39;49m\u001B[43mencoding\u001B[49m\u001B[43m,\u001B[49m\n\u001B[0;32m    245\u001B[0m \u001B[43m    \u001B[49m\u001B[43merrors\u001B[49m\u001B[38;5;241;43m=\u001B[39;49m\u001B[38;5;28;43mself\u001B[39;49m\u001B[38;5;241;43m.\u001B[39;49m\u001B[43merrors\u001B[49m\u001B[43m,\u001B[49m\n\u001B[0;32m    246\u001B[0m \u001B[43m    \u001B[49m\u001B[43mcompression\u001B[49m\u001B[38;5;241;43m=\u001B[39;49m\u001B[38;5;28;43mself\u001B[39;49m\u001B[38;5;241;43m.\u001B[39;49m\u001B[43mcompression\u001B[49m\u001B[43m,\u001B[49m\n\u001B[0;32m    247\u001B[0m \u001B[43m    \u001B[49m\u001B[43mstorage_options\u001B[49m\u001B[38;5;241;43m=\u001B[39;49m\u001B[38;5;28;43mself\u001B[39;49m\u001B[38;5;241;43m.\u001B[39;49m\u001B[43mstorage_options\u001B[49m\u001B[43m,\u001B[49m\n\u001B[0;32m    248\u001B[0m \u001B[43m\u001B[49m\u001B[43m)\u001B[49m \u001B[38;5;28;01mas\u001B[39;00m handles:\n\u001B[0;32m    249\u001B[0m \n\u001B[0;32m    250\u001B[0m     \u001B[38;5;66;03m# Note: self.encoding is irrelevant here\u001B[39;00m\n\u001B[0;32m    251\u001B[0m     \u001B[38;5;28mself\u001B[39m\u001B[38;5;241m.\u001B[39mwriter \u001B[38;5;241m=\u001B[39m csvlib\u001B[38;5;241m.\u001B[39mwriter(\n\u001B[0;32m    252\u001B[0m         handles\u001B[38;5;241m.\u001B[39mhandle,\n\u001B[0;32m    253\u001B[0m         lineterminator\u001B[38;5;241m=\u001B[39m\u001B[38;5;28mself\u001B[39m\u001B[38;5;241m.\u001B[39mlineterminator,\n\u001B[1;32m   (...)\u001B[0m\n\u001B[0;32m    258\u001B[0m         quotechar\u001B[38;5;241m=\u001B[39m\u001B[38;5;28mself\u001B[39m\u001B[38;5;241m.\u001B[39mquotechar,\n\u001B[0;32m    259\u001B[0m     )\n\u001B[0;32m    261\u001B[0m     \u001B[38;5;28mself\u001B[39m\u001B[38;5;241m.\u001B[39m_save()\n",
      "File \u001B[1;32mD:\\Important\\Wlad\\Study\\BMSTU\\patent_search\\venv\\Lib\\site-packages\\pandas\\io\\common.py:856\u001B[0m, in \u001B[0;36mget_handle\u001B[1;34m(path_or_buf, mode, encoding, compression, memory_map, is_text, errors, storage_options)\u001B[0m\n\u001B[0;32m    851\u001B[0m \u001B[38;5;28;01melif\u001B[39;00m \u001B[38;5;28misinstance\u001B[39m(handle, \u001B[38;5;28mstr\u001B[39m):\n\u001B[0;32m    852\u001B[0m     \u001B[38;5;66;03m# Check whether the filename is to be opened in binary mode.\u001B[39;00m\n\u001B[0;32m    853\u001B[0m     \u001B[38;5;66;03m# Binary mode does not support 'encoding' and 'newline'.\u001B[39;00m\n\u001B[0;32m    854\u001B[0m     \u001B[38;5;28;01mif\u001B[39;00m ioargs\u001B[38;5;241m.\u001B[39mencoding \u001B[38;5;129;01mand\u001B[39;00m \u001B[38;5;124m\"\u001B[39m\u001B[38;5;124mb\u001B[39m\u001B[38;5;124m\"\u001B[39m \u001B[38;5;129;01mnot\u001B[39;00m \u001B[38;5;129;01min\u001B[39;00m ioargs\u001B[38;5;241m.\u001B[39mmode:\n\u001B[0;32m    855\u001B[0m         \u001B[38;5;66;03m# Encoding\u001B[39;00m\n\u001B[1;32m--> 856\u001B[0m         handle \u001B[38;5;241m=\u001B[39m \u001B[38;5;28mopen\u001B[39m(\n\u001B[0;32m    857\u001B[0m             handle,\n\u001B[0;32m    858\u001B[0m             ioargs\u001B[38;5;241m.\u001B[39mmode,\n\u001B[0;32m    859\u001B[0m             encoding\u001B[38;5;241m=\u001B[39mioargs\u001B[38;5;241m.\u001B[39mencoding,\n\u001B[0;32m    860\u001B[0m             errors\u001B[38;5;241m=\u001B[39merrors,\n\u001B[0;32m    861\u001B[0m             newline\u001B[38;5;241m=\u001B[39m\u001B[38;5;124m\"\u001B[39m\u001B[38;5;124m\"\u001B[39m,\n\u001B[0;32m    862\u001B[0m         )\n\u001B[0;32m    863\u001B[0m     \u001B[38;5;28;01melse\u001B[39;00m:\n\u001B[0;32m    864\u001B[0m         \u001B[38;5;66;03m# Binary mode\u001B[39;00m\n\u001B[0;32m    865\u001B[0m         handle \u001B[38;5;241m=\u001B[39m \u001B[38;5;28mopen\u001B[39m(handle, ioargs\u001B[38;5;241m.\u001B[39mmode)\n",
      "\u001B[1;31mPermissionError\u001B[0m: [Errno 13] Permission denied: 'D:\\\\Important\\\\Wlad\\\\Study\\\\BMSTU\\\\patent_search\\\\patentScraper\\\\patentScraper\\\\spiders'"
     ]
    }
   ],
   "execution_count": 91
  },
  {
   "metadata": {
    "ExecuteTime": {
     "end_time": "2024-05-31T22:11:23.443857Z",
     "start_time": "2024-05-31T22:11:23.441014Z"
    }
   },
   "cell_type": "code",
   "source": "cd spiders",
   "id": "9a650bf407ba5115",
   "outputs": [
    {
     "name": "stdout",
     "output_type": "stream",
     "text": [
      "D:\\Important\\Wlad\\Study\\BMSTU\\patent_search\\patentScraper\\patentScraper\\spiders\n"
     ]
    }
   ],
   "execution_count": 12
  },
  {
   "metadata": {
    "ExecuteTime": {
     "end_time": "2024-05-31T22:11:26.553243Z",
     "start_time": "2024-05-31T22:11:26.438974Z"
    }
   },
   "cell_type": "code",
   "source": [
    "df=pd.read_csv('active_patents.csv')\n",
    "df"
   ],
   "id": "995c00ef762b6d9c",
   "outputs": [
    {
     "data": {
      "text/plain": [
       "      Unnamed: 0                                          self_link  \\\n",
       "0              0   https://patents.google.com/patent/JP5522034B2/en   \n",
       "1              4   https://patents.google.com/patent/JP5090871B2/en   \n",
       "2              5   https://patents.google.com/patent/JP5177835B2/en   \n",
       "3              6   https://patents.google.com/patent/JP6247200B2/en   \n",
       "4              7  https://patents.google.com/patent/CN106061689B/en   \n",
       "...          ...                                                ...   \n",
       "8355       24804   https://patents.google.com/patent/JP6454857B2/en   \n",
       "8356       24812   https://patents.google.com/patent/JP7124880B2/en   \n",
       "8357       24829   https://patents.google.com/patent/JP5085907B2/en   \n",
       "8358       24845  https://patents.google.com/patent/CN112099626B/en   \n",
       "8359       24852  https://patents.google.com/patent/CN110531952B/en   \n",
       "\n",
       "                                                  title  \\\n",
       "0                                          Robot system   \n",
       "1                                       Robot equipment   \n",
       "2                          Double-arm robot manipulator   \n",
       "3     Tool adapter for robot wrist and robot with to...   \n",
       "4     Manipulator, robot and workpiece method of ope...   \n",
       "...                                                 ...   \n",
       "8355  Posture detection apparatus and posture detect...   \n",
       "8356                                       robot system   \n",
       "8357               Jack control device for work vehicle   \n",
       "8358  Interface display method, interface display de...   \n",
       "8359  Voice skill processing method, device and equi...   \n",
       "\n",
       "                                               abstract publication_number  \\\n",
       "0                                                   NaN        JP5522034B2   \n",
       "1                                                   NaN        JP5090871B2   \n",
       "2                                                   NaN        JP5177835B2   \n",
       "3                                                   NaN        JP6247200B2   \n",
       "4     The present invention relates to a kind of man...       CN106061689B   \n",
       "...                                                 ...                ...   \n",
       "8355                                                NaN        JP6454857B2   \n",
       "8356                                                NaN        JP7124880B2   \n",
       "8357                                                NaN        JP5085907B2   \n",
       "8358  The application discloses an interface display...       CN112099626B   \n",
       "8359  The application discloses a processing method,...       CN110531952B   \n",
       "\n",
       "            date    inventors                                current_assignee  \\\n",
       "0     2009-03-13   雅人 伊藤,学 岡久                           Yaskawa Electric Corp   \n",
       "1     2007-11-27        和宏 埴谷                           Yaskawa Electric Corp   \n",
       "2     2007-04-27   雅人 伊藤,学 岡久                           Yaskawa Electric Corp   \n",
       "3     2014-12-10  賢明 加藤,賢明 加藤                                      FANUC Corp   \n",
       "4     2014-02-28    扫部雅幸,高山裕规                             Kawasaki Motors Ltd   \n",
       "...          ...          ...                                             ...   \n",
       "8355  2015-05-27  秀夫 熊谷,秀夫 熊谷                           Tamagawa Seiki Co Ltd   \n",
       "8356  2018-10-16   毅 伊藤,公徳 西村                           Yaskawa Electric Corp   \n",
       "8357  2006-09-28        孝明 大葉                                      Aichi Corp   \n",
       "8358  2020-09-01           韩桐                Vivo Mobile Communication Co Ltd   \n",
       "8359  2019-08-30          戚耀文  Baidu Online Network Technology Beijing Co Ltd   \n",
       "\n",
       "      status  \n",
       "0     Active  \n",
       "1     Active  \n",
       "2     Active  \n",
       "3     Active  \n",
       "4     Active  \n",
       "...      ...  \n",
       "8355  Active  \n",
       "8356  Active  \n",
       "8357  Active  \n",
       "8358  Active  \n",
       "8359  Active  \n",
       "\n",
       "[8360 rows x 9 columns]"
      ],
      "text/html": [
       "<div>\n",
       "<style scoped>\n",
       "    .dataframe tbody tr th:only-of-type {\n",
       "        vertical-align: middle;\n",
       "    }\n",
       "\n",
       "    .dataframe tbody tr th {\n",
       "        vertical-align: top;\n",
       "    }\n",
       "\n",
       "    .dataframe thead th {\n",
       "        text-align: right;\n",
       "    }\n",
       "</style>\n",
       "<table border=\"1\" class=\"dataframe\">\n",
       "  <thead>\n",
       "    <tr style=\"text-align: right;\">\n",
       "      <th></th>\n",
       "      <th>Unnamed: 0</th>\n",
       "      <th>self_link</th>\n",
       "      <th>title</th>\n",
       "      <th>abstract</th>\n",
       "      <th>publication_number</th>\n",
       "      <th>date</th>\n",
       "      <th>inventors</th>\n",
       "      <th>current_assignee</th>\n",
       "      <th>status</th>\n",
       "    </tr>\n",
       "  </thead>\n",
       "  <tbody>\n",
       "    <tr>\n",
       "      <th>0</th>\n",
       "      <td>0</td>\n",
       "      <td>https://patents.google.com/patent/JP5522034B2/en</td>\n",
       "      <td>Robot system</td>\n",
       "      <td>NaN</td>\n",
       "      <td>JP5522034B2</td>\n",
       "      <td>2009-03-13</td>\n",
       "      <td>雅人 伊藤,学 岡久</td>\n",
       "      <td>Yaskawa Electric Corp</td>\n",
       "      <td>Active</td>\n",
       "    </tr>\n",
       "    <tr>\n",
       "      <th>1</th>\n",
       "      <td>4</td>\n",
       "      <td>https://patents.google.com/patent/JP5090871B2/en</td>\n",
       "      <td>Robot equipment</td>\n",
       "      <td>NaN</td>\n",
       "      <td>JP5090871B2</td>\n",
       "      <td>2007-11-27</td>\n",
       "      <td>和宏 埴谷</td>\n",
       "      <td>Yaskawa Electric Corp</td>\n",
       "      <td>Active</td>\n",
       "    </tr>\n",
       "    <tr>\n",
       "      <th>2</th>\n",
       "      <td>5</td>\n",
       "      <td>https://patents.google.com/patent/JP5177835B2/en</td>\n",
       "      <td>Double-arm robot manipulator</td>\n",
       "      <td>NaN</td>\n",
       "      <td>JP5177835B2</td>\n",
       "      <td>2007-04-27</td>\n",
       "      <td>雅人 伊藤,学 岡久</td>\n",
       "      <td>Yaskawa Electric Corp</td>\n",
       "      <td>Active</td>\n",
       "    </tr>\n",
       "    <tr>\n",
       "      <th>3</th>\n",
       "      <td>6</td>\n",
       "      <td>https://patents.google.com/patent/JP6247200B2/en</td>\n",
       "      <td>Tool adapter for robot wrist and robot with to...</td>\n",
       "      <td>NaN</td>\n",
       "      <td>JP6247200B2</td>\n",
       "      <td>2014-12-10</td>\n",
       "      <td>賢明 加藤,賢明 加藤</td>\n",
       "      <td>FANUC Corp</td>\n",
       "      <td>Active</td>\n",
       "    </tr>\n",
       "    <tr>\n",
       "      <th>4</th>\n",
       "      <td>7</td>\n",
       "      <td>https://patents.google.com/patent/CN106061689B/en</td>\n",
       "      <td>Manipulator, robot and workpiece method of ope...</td>\n",
       "      <td>The present invention relates to a kind of man...</td>\n",
       "      <td>CN106061689B</td>\n",
       "      <td>2014-02-28</td>\n",
       "      <td>扫部雅幸,高山裕规</td>\n",
       "      <td>Kawasaki Motors Ltd</td>\n",
       "      <td>Active</td>\n",
       "    </tr>\n",
       "    <tr>\n",
       "      <th>...</th>\n",
       "      <td>...</td>\n",
       "      <td>...</td>\n",
       "      <td>...</td>\n",
       "      <td>...</td>\n",
       "      <td>...</td>\n",
       "      <td>...</td>\n",
       "      <td>...</td>\n",
       "      <td>...</td>\n",
       "      <td>...</td>\n",
       "    </tr>\n",
       "    <tr>\n",
       "      <th>8355</th>\n",
       "      <td>24804</td>\n",
       "      <td>https://patents.google.com/patent/JP6454857B2/en</td>\n",
       "      <td>Posture detection apparatus and posture detect...</td>\n",
       "      <td>NaN</td>\n",
       "      <td>JP6454857B2</td>\n",
       "      <td>2015-05-27</td>\n",
       "      <td>秀夫 熊谷,秀夫 熊谷</td>\n",
       "      <td>Tamagawa Seiki Co Ltd</td>\n",
       "      <td>Active</td>\n",
       "    </tr>\n",
       "    <tr>\n",
       "      <th>8356</th>\n",
       "      <td>24812</td>\n",
       "      <td>https://patents.google.com/patent/JP7124880B2/en</td>\n",
       "      <td>robot system</td>\n",
       "      <td>NaN</td>\n",
       "      <td>JP7124880B2</td>\n",
       "      <td>2018-10-16</td>\n",
       "      <td>毅 伊藤,公徳 西村</td>\n",
       "      <td>Yaskawa Electric Corp</td>\n",
       "      <td>Active</td>\n",
       "    </tr>\n",
       "    <tr>\n",
       "      <th>8357</th>\n",
       "      <td>24829</td>\n",
       "      <td>https://patents.google.com/patent/JP5085907B2/en</td>\n",
       "      <td>Jack control device for work vehicle</td>\n",
       "      <td>NaN</td>\n",
       "      <td>JP5085907B2</td>\n",
       "      <td>2006-09-28</td>\n",
       "      <td>孝明 大葉</td>\n",
       "      <td>Aichi Corp</td>\n",
       "      <td>Active</td>\n",
       "    </tr>\n",
       "    <tr>\n",
       "      <th>8358</th>\n",
       "      <td>24845</td>\n",
       "      <td>https://patents.google.com/patent/CN112099626B/en</td>\n",
       "      <td>Interface display method, interface display de...</td>\n",
       "      <td>The application discloses an interface display...</td>\n",
       "      <td>CN112099626B</td>\n",
       "      <td>2020-09-01</td>\n",
       "      <td>韩桐</td>\n",
       "      <td>Vivo Mobile Communication Co Ltd</td>\n",
       "      <td>Active</td>\n",
       "    </tr>\n",
       "    <tr>\n",
       "      <th>8359</th>\n",
       "      <td>24852</td>\n",
       "      <td>https://patents.google.com/patent/CN110531952B/en</td>\n",
       "      <td>Voice skill processing method, device and equi...</td>\n",
       "      <td>The application discloses a processing method,...</td>\n",
       "      <td>CN110531952B</td>\n",
       "      <td>2019-08-30</td>\n",
       "      <td>戚耀文</td>\n",
       "      <td>Baidu Online Network Technology Beijing Co Ltd</td>\n",
       "      <td>Active</td>\n",
       "    </tr>\n",
       "  </tbody>\n",
       "</table>\n",
       "<p>8360 rows × 9 columns</p>\n",
       "</div>"
      ]
     },
     "execution_count": 13,
     "metadata": {},
     "output_type": "execute_result"
    }
   ],
   "execution_count": 13
  },
  {
   "metadata": {
    "ExecuteTime": {
     "end_time": "2024-05-31T22:11:42.140896Z",
     "start_time": "2024-05-31T22:11:42.136825Z"
    }
   },
   "cell_type": "code",
   "source": "df = df.drop(df.columns[0], axis = 1)",
   "id": "a3066f5642a055b0",
   "outputs": [],
   "execution_count": 14
  },
  {
   "metadata": {
    "ExecuteTime": {
     "end_time": "2024-05-31T10:05:49.004231Z",
     "start_time": "2024-05-31T10:05:48.997479Z"
    }
   },
   "cell_type": "code",
   "source": "df",
   "id": "5adb2abf1b599fff",
   "outputs": [
    {
     "data": {
      "text/plain": [
       "                                              self_link  \\\n",
       "0      https://patents.google.com/patent/JP5522034B2/en   \n",
       "1      https://patents.google.com/patent/JP5090871B2/en   \n",
       "2      https://patents.google.com/patent/JP5177835B2/en   \n",
       "3      https://patents.google.com/patent/JP6247200B2/en   \n",
       "4     https://patents.google.com/patent/CN106061689B/en   \n",
       "...                                                 ...   \n",
       "8355   https://patents.google.com/patent/JP6454857B2/en   \n",
       "8356   https://patents.google.com/patent/JP7124880B2/en   \n",
       "8357   https://patents.google.com/patent/JP5085907B2/en   \n",
       "8358  https://patents.google.com/patent/CN112099626B/en   \n",
       "8359  https://patents.google.com/patent/CN110531952B/en   \n",
       "\n",
       "                                                  title  \\\n",
       "0                                          Robot system   \n",
       "1                                       Robot equipment   \n",
       "2                          Double-arm robot manipulator   \n",
       "3     Tool adapter for robot wrist and robot with to...   \n",
       "4     Manipulator, robot and workpiece method of ope...   \n",
       "...                                                 ...   \n",
       "8355  Posture detection apparatus and posture detect...   \n",
       "8356                                       robot system   \n",
       "8357               Jack control device for work vehicle   \n",
       "8358  Interface display method, interface display de...   \n",
       "8359  Voice skill processing method, device and equi...   \n",
       "\n",
       "                                               abstract publication_number  \\\n",
       "0                                                   NaN        JP5522034B2   \n",
       "1                                                   NaN        JP5090871B2   \n",
       "2                                                   NaN        JP5177835B2   \n",
       "3                                                   NaN        JP6247200B2   \n",
       "4     The present invention relates to a kind of man...       CN106061689B   \n",
       "...                                                 ...                ...   \n",
       "8355                                                NaN        JP6454857B2   \n",
       "8356                                                NaN        JP7124880B2   \n",
       "8357                                                NaN        JP5085907B2   \n",
       "8358  The application discloses an interface display...       CN112099626B   \n",
       "8359  The application discloses a processing method,...       CN110531952B   \n",
       "\n",
       "            date    inventors                                current_assignee  \\\n",
       "0     2009-03-13   雅人 伊藤,学 岡久                           Yaskawa Electric Corp   \n",
       "1     2007-11-27        和宏 埴谷                           Yaskawa Electric Corp   \n",
       "2     2007-04-27   雅人 伊藤,学 岡久                           Yaskawa Electric Corp   \n",
       "3     2014-12-10  賢明 加藤,賢明 加藤                                      FANUC Corp   \n",
       "4     2014-02-28    扫部雅幸,高山裕规                             Kawasaki Motors Ltd   \n",
       "...          ...          ...                                             ...   \n",
       "8355  2015-05-27  秀夫 熊谷,秀夫 熊谷                           Tamagawa Seiki Co Ltd   \n",
       "8356  2018-10-16   毅 伊藤,公徳 西村                           Yaskawa Electric Corp   \n",
       "8357  2006-09-28        孝明 大葉                                      Aichi Corp   \n",
       "8358  2020-09-01           韩桐                Vivo Mobile Communication Co Ltd   \n",
       "8359  2019-08-30          戚耀文  Baidu Online Network Technology Beijing Co Ltd   \n",
       "\n",
       "      status  \n",
       "0     Active  \n",
       "1     Active  \n",
       "2     Active  \n",
       "3     Active  \n",
       "4     Active  \n",
       "...      ...  \n",
       "8355  Active  \n",
       "8356  Active  \n",
       "8357  Active  \n",
       "8358  Active  \n",
       "8359  Active  \n",
       "\n",
       "[8360 rows x 8 columns]"
      ],
      "text/html": [
       "<div>\n",
       "<style scoped>\n",
       "    .dataframe tbody tr th:only-of-type {\n",
       "        vertical-align: middle;\n",
       "    }\n",
       "\n",
       "    .dataframe tbody tr th {\n",
       "        vertical-align: top;\n",
       "    }\n",
       "\n",
       "    .dataframe thead th {\n",
       "        text-align: right;\n",
       "    }\n",
       "</style>\n",
       "<table border=\"1\" class=\"dataframe\">\n",
       "  <thead>\n",
       "    <tr style=\"text-align: right;\">\n",
       "      <th></th>\n",
       "      <th>self_link</th>\n",
       "      <th>title</th>\n",
       "      <th>abstract</th>\n",
       "      <th>publication_number</th>\n",
       "      <th>date</th>\n",
       "      <th>inventors</th>\n",
       "      <th>current_assignee</th>\n",
       "      <th>status</th>\n",
       "    </tr>\n",
       "  </thead>\n",
       "  <tbody>\n",
       "    <tr>\n",
       "      <th>0</th>\n",
       "      <td>https://patents.google.com/patent/JP5522034B2/en</td>\n",
       "      <td>Robot system</td>\n",
       "      <td>NaN</td>\n",
       "      <td>JP5522034B2</td>\n",
       "      <td>2009-03-13</td>\n",
       "      <td>雅人 伊藤,学 岡久</td>\n",
       "      <td>Yaskawa Electric Corp</td>\n",
       "      <td>Active</td>\n",
       "    </tr>\n",
       "    <tr>\n",
       "      <th>1</th>\n",
       "      <td>https://patents.google.com/patent/JP5090871B2/en</td>\n",
       "      <td>Robot equipment</td>\n",
       "      <td>NaN</td>\n",
       "      <td>JP5090871B2</td>\n",
       "      <td>2007-11-27</td>\n",
       "      <td>和宏 埴谷</td>\n",
       "      <td>Yaskawa Electric Corp</td>\n",
       "      <td>Active</td>\n",
       "    </tr>\n",
       "    <tr>\n",
       "      <th>2</th>\n",
       "      <td>https://patents.google.com/patent/JP5177835B2/en</td>\n",
       "      <td>Double-arm robot manipulator</td>\n",
       "      <td>NaN</td>\n",
       "      <td>JP5177835B2</td>\n",
       "      <td>2007-04-27</td>\n",
       "      <td>雅人 伊藤,学 岡久</td>\n",
       "      <td>Yaskawa Electric Corp</td>\n",
       "      <td>Active</td>\n",
       "    </tr>\n",
       "    <tr>\n",
       "      <th>3</th>\n",
       "      <td>https://patents.google.com/patent/JP6247200B2/en</td>\n",
       "      <td>Tool adapter for robot wrist and robot with to...</td>\n",
       "      <td>NaN</td>\n",
       "      <td>JP6247200B2</td>\n",
       "      <td>2014-12-10</td>\n",
       "      <td>賢明 加藤,賢明 加藤</td>\n",
       "      <td>FANUC Corp</td>\n",
       "      <td>Active</td>\n",
       "    </tr>\n",
       "    <tr>\n",
       "      <th>4</th>\n",
       "      <td>https://patents.google.com/patent/CN106061689B/en</td>\n",
       "      <td>Manipulator, robot and workpiece method of ope...</td>\n",
       "      <td>The present invention relates to a kind of man...</td>\n",
       "      <td>CN106061689B</td>\n",
       "      <td>2014-02-28</td>\n",
       "      <td>扫部雅幸,高山裕规</td>\n",
       "      <td>Kawasaki Motors Ltd</td>\n",
       "      <td>Active</td>\n",
       "    </tr>\n",
       "    <tr>\n",
       "      <th>...</th>\n",
       "      <td>...</td>\n",
       "      <td>...</td>\n",
       "      <td>...</td>\n",
       "      <td>...</td>\n",
       "      <td>...</td>\n",
       "      <td>...</td>\n",
       "      <td>...</td>\n",
       "      <td>...</td>\n",
       "    </tr>\n",
       "    <tr>\n",
       "      <th>8355</th>\n",
       "      <td>https://patents.google.com/patent/JP6454857B2/en</td>\n",
       "      <td>Posture detection apparatus and posture detect...</td>\n",
       "      <td>NaN</td>\n",
       "      <td>JP6454857B2</td>\n",
       "      <td>2015-05-27</td>\n",
       "      <td>秀夫 熊谷,秀夫 熊谷</td>\n",
       "      <td>Tamagawa Seiki Co Ltd</td>\n",
       "      <td>Active</td>\n",
       "    </tr>\n",
       "    <tr>\n",
       "      <th>8356</th>\n",
       "      <td>https://patents.google.com/patent/JP7124880B2/en</td>\n",
       "      <td>robot system</td>\n",
       "      <td>NaN</td>\n",
       "      <td>JP7124880B2</td>\n",
       "      <td>2018-10-16</td>\n",
       "      <td>毅 伊藤,公徳 西村</td>\n",
       "      <td>Yaskawa Electric Corp</td>\n",
       "      <td>Active</td>\n",
       "    </tr>\n",
       "    <tr>\n",
       "      <th>8357</th>\n",
       "      <td>https://patents.google.com/patent/JP5085907B2/en</td>\n",
       "      <td>Jack control device for work vehicle</td>\n",
       "      <td>NaN</td>\n",
       "      <td>JP5085907B2</td>\n",
       "      <td>2006-09-28</td>\n",
       "      <td>孝明 大葉</td>\n",
       "      <td>Aichi Corp</td>\n",
       "      <td>Active</td>\n",
       "    </tr>\n",
       "    <tr>\n",
       "      <th>8358</th>\n",
       "      <td>https://patents.google.com/patent/CN112099626B/en</td>\n",
       "      <td>Interface display method, interface display de...</td>\n",
       "      <td>The application discloses an interface display...</td>\n",
       "      <td>CN112099626B</td>\n",
       "      <td>2020-09-01</td>\n",
       "      <td>韩桐</td>\n",
       "      <td>Vivo Mobile Communication Co Ltd</td>\n",
       "      <td>Active</td>\n",
       "    </tr>\n",
       "    <tr>\n",
       "      <th>8359</th>\n",
       "      <td>https://patents.google.com/patent/CN110531952B/en</td>\n",
       "      <td>Voice skill processing method, device and equi...</td>\n",
       "      <td>The application discloses a processing method,...</td>\n",
       "      <td>CN110531952B</td>\n",
       "      <td>2019-08-30</td>\n",
       "      <td>戚耀文</td>\n",
       "      <td>Baidu Online Network Technology Beijing Co Ltd</td>\n",
       "      <td>Active</td>\n",
       "    </tr>\n",
       "  </tbody>\n",
       "</table>\n",
       "<p>8360 rows × 8 columns</p>\n",
       "</div>"
      ]
     },
     "execution_count": 96,
     "metadata": {},
     "output_type": "execute_result"
    }
   ],
   "execution_count": 96
  },
  {
   "metadata": {
    "ExecuteTime": {
     "end_time": "2024-05-31T21:28:18.182573Z",
     "start_time": "2024-05-31T21:28:17.965555Z"
    }
   },
   "cell_type": "code",
   "source": "df['combined']=df[['abstract','title']].apply(lambda x: ' [SEP] '.join(x.astype(str)), axis=1)",
   "id": "6bf26baf9fba9c91",
   "outputs": [],
   "execution_count": 97
  },
  {
   "metadata": {
    "ExecuteTime": {
     "end_time": "2024-05-31T22:13:15.043217Z",
     "start_time": "2024-05-31T22:13:15.034188Z"
    }
   },
   "cell_type": "code",
   "source": "df",
   "id": "7c530f932973aca7",
   "outputs": [
    {
     "data": {
      "text/plain": [
       "                                              self_link  \\\n",
       "0      https://patents.google.com/patent/JP5522034B2/en   \n",
       "1      https://patents.google.com/patent/JP5090871B2/en   \n",
       "2      https://patents.google.com/patent/JP5177835B2/en   \n",
       "3      https://patents.google.com/patent/JP6247200B2/en   \n",
       "4     https://patents.google.com/patent/CN106061689B/en   \n",
       "...                                                 ...   \n",
       "8355   https://patents.google.com/patent/JP6454857B2/en   \n",
       "8356   https://patents.google.com/patent/JP7124880B2/en   \n",
       "8357   https://patents.google.com/patent/JP5085907B2/en   \n",
       "8358  https://patents.google.com/patent/CN112099626B/en   \n",
       "8359  https://patents.google.com/patent/CN110531952B/en   \n",
       "\n",
       "                                                  title  \\\n",
       "0                                          Robot system   \n",
       "1                                       Robot equipment   \n",
       "2                          Double-arm robot manipulator   \n",
       "3     Tool adapter for robot wrist and robot with to...   \n",
       "4     Manipulator, robot and workpiece method of ope...   \n",
       "...                                                 ...   \n",
       "8355  Posture detection apparatus and posture detect...   \n",
       "8356                                       robot system   \n",
       "8357               Jack control device for work vehicle   \n",
       "8358  Interface display method, interface display de...   \n",
       "8359  Voice skill processing method, device and equi...   \n",
       "\n",
       "                                               abstract publication_number  \\\n",
       "0                                                   NaN        JP5522034B2   \n",
       "1                                                   NaN        JP5090871B2   \n",
       "2                                                   NaN        JP5177835B2   \n",
       "3                                                   NaN        JP6247200B2   \n",
       "4     The present invention relates to a kind of man...       CN106061689B   \n",
       "...                                                 ...                ...   \n",
       "8355                                                NaN        JP6454857B2   \n",
       "8356                                                NaN        JP7124880B2   \n",
       "8357                                                NaN        JP5085907B2   \n",
       "8358  The application discloses an interface display...       CN112099626B   \n",
       "8359  The application discloses a processing method,...       CN110531952B   \n",
       "\n",
       "            date    inventors                                current_assignee  \\\n",
       "0     2009-03-13   雅人 伊藤,学 岡久                           Yaskawa Electric Corp   \n",
       "1     2007-11-27        和宏 埴谷                           Yaskawa Electric Corp   \n",
       "2     2007-04-27   雅人 伊藤,学 岡久                           Yaskawa Electric Corp   \n",
       "3     2014-12-10  賢明 加藤,賢明 加藤                                      FANUC Corp   \n",
       "4     2014-02-28    扫部雅幸,高山裕规                             Kawasaki Motors Ltd   \n",
       "...          ...          ...                                             ...   \n",
       "8355  2015-05-27  秀夫 熊谷,秀夫 熊谷                           Tamagawa Seiki Co Ltd   \n",
       "8356  2018-10-16   毅 伊藤,公徳 西村                           Yaskawa Electric Corp   \n",
       "8357  2006-09-28        孝明 大葉                                      Aichi Corp   \n",
       "8358  2020-09-01           韩桐                Vivo Mobile Communication Co Ltd   \n",
       "8359  2019-08-30          戚耀文  Baidu Online Network Technology Beijing Co Ltd   \n",
       "\n",
       "      status  \n",
       "0     Active  \n",
       "1     Active  \n",
       "2     Active  \n",
       "3     Active  \n",
       "4     Active  \n",
       "...      ...  \n",
       "8355  Active  \n",
       "8356  Active  \n",
       "8357  Active  \n",
       "8358  Active  \n",
       "8359  Active  \n",
       "\n",
       "[8360 rows x 8 columns]"
      ],
      "text/html": [
       "<div>\n",
       "<style scoped>\n",
       "    .dataframe tbody tr th:only-of-type {\n",
       "        vertical-align: middle;\n",
       "    }\n",
       "\n",
       "    .dataframe tbody tr th {\n",
       "        vertical-align: top;\n",
       "    }\n",
       "\n",
       "    .dataframe thead th {\n",
       "        text-align: right;\n",
       "    }\n",
       "</style>\n",
       "<table border=\"1\" class=\"dataframe\">\n",
       "  <thead>\n",
       "    <tr style=\"text-align: right;\">\n",
       "      <th></th>\n",
       "      <th>self_link</th>\n",
       "      <th>title</th>\n",
       "      <th>abstract</th>\n",
       "      <th>publication_number</th>\n",
       "      <th>date</th>\n",
       "      <th>inventors</th>\n",
       "      <th>current_assignee</th>\n",
       "      <th>status</th>\n",
       "    </tr>\n",
       "  </thead>\n",
       "  <tbody>\n",
       "    <tr>\n",
       "      <th>0</th>\n",
       "      <td>https://patents.google.com/patent/JP5522034B2/en</td>\n",
       "      <td>Robot system</td>\n",
       "      <td>NaN</td>\n",
       "      <td>JP5522034B2</td>\n",
       "      <td>2009-03-13</td>\n",
       "      <td>雅人 伊藤,学 岡久</td>\n",
       "      <td>Yaskawa Electric Corp</td>\n",
       "      <td>Active</td>\n",
       "    </tr>\n",
       "    <tr>\n",
       "      <th>1</th>\n",
       "      <td>https://patents.google.com/patent/JP5090871B2/en</td>\n",
       "      <td>Robot equipment</td>\n",
       "      <td>NaN</td>\n",
       "      <td>JP5090871B2</td>\n",
       "      <td>2007-11-27</td>\n",
       "      <td>和宏 埴谷</td>\n",
       "      <td>Yaskawa Electric Corp</td>\n",
       "      <td>Active</td>\n",
       "    </tr>\n",
       "    <tr>\n",
       "      <th>2</th>\n",
       "      <td>https://patents.google.com/patent/JP5177835B2/en</td>\n",
       "      <td>Double-arm robot manipulator</td>\n",
       "      <td>NaN</td>\n",
       "      <td>JP5177835B2</td>\n",
       "      <td>2007-04-27</td>\n",
       "      <td>雅人 伊藤,学 岡久</td>\n",
       "      <td>Yaskawa Electric Corp</td>\n",
       "      <td>Active</td>\n",
       "    </tr>\n",
       "    <tr>\n",
       "      <th>3</th>\n",
       "      <td>https://patents.google.com/patent/JP6247200B2/en</td>\n",
       "      <td>Tool adapter for robot wrist and robot with to...</td>\n",
       "      <td>NaN</td>\n",
       "      <td>JP6247200B2</td>\n",
       "      <td>2014-12-10</td>\n",
       "      <td>賢明 加藤,賢明 加藤</td>\n",
       "      <td>FANUC Corp</td>\n",
       "      <td>Active</td>\n",
       "    </tr>\n",
       "    <tr>\n",
       "      <th>4</th>\n",
       "      <td>https://patents.google.com/patent/CN106061689B/en</td>\n",
       "      <td>Manipulator, robot and workpiece method of ope...</td>\n",
       "      <td>The present invention relates to a kind of man...</td>\n",
       "      <td>CN106061689B</td>\n",
       "      <td>2014-02-28</td>\n",
       "      <td>扫部雅幸,高山裕规</td>\n",
       "      <td>Kawasaki Motors Ltd</td>\n",
       "      <td>Active</td>\n",
       "    </tr>\n",
       "    <tr>\n",
       "      <th>...</th>\n",
       "      <td>...</td>\n",
       "      <td>...</td>\n",
       "      <td>...</td>\n",
       "      <td>...</td>\n",
       "      <td>...</td>\n",
       "      <td>...</td>\n",
       "      <td>...</td>\n",
       "      <td>...</td>\n",
       "    </tr>\n",
       "    <tr>\n",
       "      <th>8355</th>\n",
       "      <td>https://patents.google.com/patent/JP6454857B2/en</td>\n",
       "      <td>Posture detection apparatus and posture detect...</td>\n",
       "      <td>NaN</td>\n",
       "      <td>JP6454857B2</td>\n",
       "      <td>2015-05-27</td>\n",
       "      <td>秀夫 熊谷,秀夫 熊谷</td>\n",
       "      <td>Tamagawa Seiki Co Ltd</td>\n",
       "      <td>Active</td>\n",
       "    </tr>\n",
       "    <tr>\n",
       "      <th>8356</th>\n",
       "      <td>https://patents.google.com/patent/JP7124880B2/en</td>\n",
       "      <td>robot system</td>\n",
       "      <td>NaN</td>\n",
       "      <td>JP7124880B2</td>\n",
       "      <td>2018-10-16</td>\n",
       "      <td>毅 伊藤,公徳 西村</td>\n",
       "      <td>Yaskawa Electric Corp</td>\n",
       "      <td>Active</td>\n",
       "    </tr>\n",
       "    <tr>\n",
       "      <th>8357</th>\n",
       "      <td>https://patents.google.com/patent/JP5085907B2/en</td>\n",
       "      <td>Jack control device for work vehicle</td>\n",
       "      <td>NaN</td>\n",
       "      <td>JP5085907B2</td>\n",
       "      <td>2006-09-28</td>\n",
       "      <td>孝明 大葉</td>\n",
       "      <td>Aichi Corp</td>\n",
       "      <td>Active</td>\n",
       "    </tr>\n",
       "    <tr>\n",
       "      <th>8358</th>\n",
       "      <td>https://patents.google.com/patent/CN112099626B/en</td>\n",
       "      <td>Interface display method, interface display de...</td>\n",
       "      <td>The application discloses an interface display...</td>\n",
       "      <td>CN112099626B</td>\n",
       "      <td>2020-09-01</td>\n",
       "      <td>韩桐</td>\n",
       "      <td>Vivo Mobile Communication Co Ltd</td>\n",
       "      <td>Active</td>\n",
       "    </tr>\n",
       "    <tr>\n",
       "      <th>8359</th>\n",
       "      <td>https://patents.google.com/patent/CN110531952B/en</td>\n",
       "      <td>Voice skill processing method, device and equi...</td>\n",
       "      <td>The application discloses a processing method,...</td>\n",
       "      <td>CN110531952B</td>\n",
       "      <td>2019-08-30</td>\n",
       "      <td>戚耀文</td>\n",
       "      <td>Baidu Online Network Technology Beijing Co Ltd</td>\n",
       "      <td>Active</td>\n",
       "    </tr>\n",
       "  </tbody>\n",
       "</table>\n",
       "<p>8360 rows × 8 columns</p>\n",
       "</div>"
      ]
     },
     "execution_count": 23,
     "metadata": {},
     "output_type": "execute_result"
    }
   ],
   "execution_count": 23
  },
  {
   "metadata": {
    "ExecuteTime": {
     "end_time": "2024-05-31T22:11:53.904418Z",
     "start_time": "2024-05-31T22:11:50.416298Z"
    }
   },
   "cell_type": "code",
   "source": [
    "!pip install faiss-cpu\n",
    "!pip install -U sentence-transformers"
   ],
   "id": "628c744ab8bde006",
   "outputs": [
    {
     "name": "stdout",
     "output_type": "stream",
     "text": [
      "Requirement already satisfied: faiss-cpu in d:\\important\\wlad\\study\\bmstu\\patent_search\\venv\\lib\\site-packages (1.8.0)\n",
      "Requirement already satisfied: numpy in d:\\important\\wlad\\study\\bmstu\\patent_search\\venv\\lib\\site-packages (from faiss-cpu) (1.24.2)\n"
     ]
    },
    {
     "name": "stderr",
     "output_type": "stream",
     "text": [
      "\n",
      "[notice] A new release of pip is available: 23.2.1 -> 24.0\n",
      "[notice] To update, run: python.exe -m pip install --upgrade pip\n"
     ]
    },
    {
     "name": "stdout",
     "output_type": "stream",
     "text": [
      "Requirement already satisfied: sentence-transformers in d:\\important\\wlad\\study\\bmstu\\patent_search\\venv\\lib\\site-packages (3.0.0)\n",
      "Requirement already satisfied: transformers<5.0.0,>=4.34.0 in d:\\important\\wlad\\study\\bmstu\\patent_search\\venv\\lib\\site-packages (from sentence-transformers) (4.41.1)\n",
      "Requirement already satisfied: tqdm in d:\\important\\wlad\\study\\bmstu\\patent_search\\venv\\lib\\site-packages (from sentence-transformers) (4.66.4)\n",
      "Requirement already satisfied: torch>=1.11.0 in d:\\important\\wlad\\study\\bmstu\\patent_search\\venv\\lib\\site-packages (from sentence-transformers) (2.3.0+cu121)\n",
      "Requirement already satisfied: numpy in d:\\important\\wlad\\study\\bmstu\\patent_search\\venv\\lib\\site-packages (from sentence-transformers) (1.24.2)\n",
      "Requirement already satisfied: scikit-learn in d:\\important\\wlad\\study\\bmstu\\patent_search\\venv\\lib\\site-packages (from sentence-transformers) (1.5.0)\n",
      "Requirement already satisfied: scipy in d:\\important\\wlad\\study\\bmstu\\patent_search\\venv\\lib\\site-packages (from sentence-transformers) (1.13.1)\n",
      "Requirement already satisfied: huggingface-hub>=0.15.1 in d:\\important\\wlad\\study\\bmstu\\patent_search\\venv\\lib\\site-packages (from sentence-transformers) (0.23.2)\n",
      "Requirement already satisfied: Pillow in d:\\important\\wlad\\study\\bmstu\\patent_search\\venv\\lib\\site-packages (from sentence-transformers) (10.3.0)\n",
      "Requirement already satisfied: filelock in d:\\important\\wlad\\study\\bmstu\\patent_search\\venv\\lib\\site-packages (from huggingface-hub>=0.15.1->sentence-transformers) (3.14.0)\n",
      "Requirement already satisfied: fsspec>=2023.5.0 in d:\\important\\wlad\\study\\bmstu\\patent_search\\venv\\lib\\site-packages (from huggingface-hub>=0.15.1->sentence-transformers) (2024.5.0)\n",
      "Requirement already satisfied: packaging>=20.9 in d:\\important\\wlad\\study\\bmstu\\patent_search\\venv\\lib\\site-packages (from huggingface-hub>=0.15.1->sentence-transformers) (24.0)\n",
      "Requirement already satisfied: pyyaml>=5.1 in d:\\important\\wlad\\study\\bmstu\\patent_search\\venv\\lib\\site-packages (from huggingface-hub>=0.15.1->sentence-transformers) (6.0.1)\n",
      "Requirement already satisfied: requests in d:\\important\\wlad\\study\\bmstu\\patent_search\\venv\\lib\\site-packages (from huggingface-hub>=0.15.1->sentence-transformers) (2.27.1)\n",
      "Requirement already satisfied: typing-extensions>=3.7.4.3 in d:\\important\\wlad\\study\\bmstu\\patent_search\\venv\\lib\\site-packages (from huggingface-hub>=0.15.1->sentence-transformers) (4.12.0)\n",
      "Requirement already satisfied: sympy in d:\\important\\wlad\\study\\bmstu\\patent_search\\venv\\lib\\site-packages (from torch>=1.11.0->sentence-transformers) (1.12.1)\n",
      "Requirement already satisfied: networkx in d:\\important\\wlad\\study\\bmstu\\patent_search\\venv\\lib\\site-packages (from torch>=1.11.0->sentence-transformers) (3.3)\n",
      "Requirement already satisfied: jinja2 in d:\\important\\wlad\\study\\bmstu\\patent_search\\venv\\lib\\site-packages (from torch>=1.11.0->sentence-transformers) (3.1.4)\n",
      "Requirement already satisfied: mkl<=2021.4.0,>=2021.1.1 in d:\\important\\wlad\\study\\bmstu\\patent_search\\venv\\lib\\site-packages (from torch>=1.11.0->sentence-transformers) (2021.4.0)\n",
      "Requirement already satisfied: colorama in d:\\important\\wlad\\study\\bmstu\\patent_search\\venv\\lib\\site-packages (from tqdm->sentence-transformers) (0.4.6)\n",
      "Requirement already satisfied: regex!=2019.12.17 in d:\\important\\wlad\\study\\bmstu\\patent_search\\venv\\lib\\site-packages (from transformers<5.0.0,>=4.34.0->sentence-transformers) (2024.5.15)\n",
      "Requirement already satisfied: tokenizers<0.20,>=0.19 in d:\\important\\wlad\\study\\bmstu\\patent_search\\venv\\lib\\site-packages (from transformers<5.0.0,>=4.34.0->sentence-transformers) (0.19.1)\n",
      "Requirement already satisfied: safetensors>=0.4.1 in d:\\important\\wlad\\study\\bmstu\\patent_search\\venv\\lib\\site-packages (from transformers<5.0.0,>=4.34.0->sentence-transformers) (0.4.3)\n",
      "Requirement already satisfied: joblib>=1.2.0 in d:\\important\\wlad\\study\\bmstu\\patent_search\\venv\\lib\\site-packages (from scikit-learn->sentence-transformers) (1.4.2)\n",
      "Requirement already satisfied: threadpoolctl>=3.1.0 in d:\\important\\wlad\\study\\bmstu\\patent_search\\venv\\lib\\site-packages (from scikit-learn->sentence-transformers) (3.5.0)\n",
      "Requirement already satisfied: intel-openmp==2021.* in d:\\important\\wlad\\study\\bmstu\\patent_search\\venv\\lib\\site-packages (from mkl<=2021.4.0,>=2021.1.1->torch>=1.11.0->sentence-transformers) (2021.4.0)\n",
      "Requirement already satisfied: tbb==2021.* in d:\\important\\wlad\\study\\bmstu\\patent_search\\venv\\lib\\site-packages (from mkl<=2021.4.0,>=2021.1.1->torch>=1.11.0->sentence-transformers) (2021.12.0)\n",
      "Requirement already satisfied: MarkupSafe>=2.0 in d:\\important\\wlad\\study\\bmstu\\patent_search\\venv\\lib\\site-packages (from jinja2->torch>=1.11.0->sentence-transformers) (2.1.5)\n",
      "Requirement already satisfied: urllib3<1.27,>=1.21.1 in d:\\important\\wlad\\study\\bmstu\\patent_search\\venv\\lib\\site-packages (from requests->huggingface-hub>=0.15.1->sentence-transformers) (1.26.13)\n",
      "Requirement already satisfied: certifi>=2017.4.17 in d:\\important\\wlad\\study\\bmstu\\patent_search\\venv\\lib\\site-packages (from requests->huggingface-hub>=0.15.1->sentence-transformers) (2021.10.8)\n",
      "Requirement already satisfied: charset-normalizer~=2.0.0 in d:\\important\\wlad\\study\\bmstu\\patent_search\\venv\\lib\\site-packages (from requests->huggingface-hub>=0.15.1->sentence-transformers) (2.0.12)\n",
      "Requirement already satisfied: idna<4,>=2.5 in d:\\important\\wlad\\study\\bmstu\\patent_search\\venv\\lib\\site-packages (from requests->huggingface-hub>=0.15.1->sentence-transformers) (2.10)\n",
      "Requirement already satisfied: mpmath<1.4.0,>=1.1.0 in d:\\important\\wlad\\study\\bmstu\\patent_search\\venv\\lib\\site-packages (from sympy->torch>=1.11.0->sentence-transformers) (1.3.0)\n"
     ]
    },
    {
     "name": "stderr",
     "output_type": "stream",
     "text": [
      "\n",
      "[notice] A new release of pip is available: 23.2.1 -> 24.0\n",
      "[notice] To update, run: python.exe -m pip install --upgrade pip\n"
     ]
    }
   ],
   "execution_count": 16
  },
  {
   "metadata": {
    "ExecuteTime": {
     "end_time": "2024-05-31T22:12:01.862828Z",
     "start_time": "2024-05-31T22:12:00.142675Z"
    }
   },
   "cell_type": "code",
   "source": "!pip install transformers",
   "id": "a1701afebf6ec3a8",
   "outputs": [
    {
     "name": "stdout",
     "output_type": "stream",
     "text": [
      "Requirement already satisfied: transformers in d:\\important\\wlad\\study\\bmstu\\patent_search\\venv\\lib\\site-packages (4.41.1)\n",
      "Requirement already satisfied: filelock in d:\\important\\wlad\\study\\bmstu\\patent_search\\venv\\lib\\site-packages (from transformers) (3.14.0)\n",
      "Requirement already satisfied: huggingface-hub<1.0,>=0.23.0 in d:\\important\\wlad\\study\\bmstu\\patent_search\\venv\\lib\\site-packages (from transformers) (0.23.2)\n",
      "Requirement already satisfied: numpy>=1.17 in d:\\important\\wlad\\study\\bmstu\\patent_search\\venv\\lib\\site-packages (from transformers) (1.24.2)\n",
      "Requirement already satisfied: packaging>=20.0 in d:\\important\\wlad\\study\\bmstu\\patent_search\\venv\\lib\\site-packages (from transformers) (24.0)\n",
      "Requirement already satisfied: pyyaml>=5.1 in d:\\important\\wlad\\study\\bmstu\\patent_search\\venv\\lib\\site-packages (from transformers) (6.0.1)\n",
      "Requirement already satisfied: regex!=2019.12.17 in d:\\important\\wlad\\study\\bmstu\\patent_search\\venv\\lib\\site-packages (from transformers) (2024.5.15)\n",
      "Requirement already satisfied: requests in d:\\important\\wlad\\study\\bmstu\\patent_search\\venv\\lib\\site-packages (from transformers) (2.27.1)\n",
      "Requirement already satisfied: tokenizers<0.20,>=0.19 in d:\\important\\wlad\\study\\bmstu\\patent_search\\venv\\lib\\site-packages (from transformers) (0.19.1)\n",
      "Requirement already satisfied: safetensors>=0.4.1 in d:\\important\\wlad\\study\\bmstu\\patent_search\\venv\\lib\\site-packages (from transformers) (0.4.3)\n",
      "Requirement already satisfied: tqdm>=4.27 in d:\\important\\wlad\\study\\bmstu\\patent_search\\venv\\lib\\site-packages (from transformers) (4.66.4)\n",
      "Requirement already satisfied: fsspec>=2023.5.0 in d:\\important\\wlad\\study\\bmstu\\patent_search\\venv\\lib\\site-packages (from huggingface-hub<1.0,>=0.23.0->transformers) (2024.5.0)\n",
      "Requirement already satisfied: typing-extensions>=3.7.4.3 in d:\\important\\wlad\\study\\bmstu\\patent_search\\venv\\lib\\site-packages (from huggingface-hub<1.0,>=0.23.0->transformers) (4.12.0)\n",
      "Requirement already satisfied: colorama in d:\\important\\wlad\\study\\bmstu\\patent_search\\venv\\lib\\site-packages (from tqdm>=4.27->transformers) (0.4.6)\n",
      "Requirement already satisfied: urllib3<1.27,>=1.21.1 in d:\\important\\wlad\\study\\bmstu\\patent_search\\venv\\lib\\site-packages (from requests->transformers) (1.26.13)\n",
      "Requirement already satisfied: certifi>=2017.4.17 in d:\\important\\wlad\\study\\bmstu\\patent_search\\venv\\lib\\site-packages (from requests->transformers) (2021.10.8)\n",
      "Requirement already satisfied: charset-normalizer~=2.0.0 in d:\\important\\wlad\\study\\bmstu\\patent_search\\venv\\lib\\site-packages (from requests->transformers) (2.0.12)\n",
      "Requirement already satisfied: idna<4,>=2.5 in d:\\important\\wlad\\study\\bmstu\\patent_search\\venv\\lib\\site-packages (from requests->transformers) (2.10)\n"
     ]
    },
    {
     "name": "stderr",
     "output_type": "stream",
     "text": [
      "\n",
      "[notice] A new release of pip is available: 23.2.1 -> 24.0\n",
      "[notice] To update, run: python.exe -m pip install --upgrade pip\n"
     ]
    }
   ],
   "execution_count": 17
  },
  {
   "metadata": {
    "ExecuteTime": {
     "end_time": "2024-05-31T22:12:11.337397Z",
     "start_time": "2024-05-31T22:12:06.352388Z"
    }
   },
   "cell_type": "code",
   "source": [
    "import numpy as np\n",
    "import torch\n",
    "import os\n",
    "import pandas as pd\n",
    "import faiss\n",
    "import time\n",
    "import pickle\n",
    "from pathlib import Path\n",
    "from sentence_transformers import SentenceTransformer\n",
    "from transformers import *"
   ],
   "id": "824008ceb59ae220",
   "outputs": [
    {
     "name": "stderr",
     "output_type": "stream",
     "text": [
      "D:\\Important\\Wlad\\Study\\BMSTU\\patent_search\\venv\\Lib\\site-packages\\sentence_transformers\\cross_encoder\\CrossEncoder.py:11: TqdmExperimentalWarning: Using `tqdm.autonotebook.tqdm` in notebook mode. Use `tqdm.tqdm` instead to force console mode (e.g. in jupyter console)\n",
      "  from tqdm.autonotebook import tqdm, trange\n",
      "D:\\Important\\Wlad\\Study\\BMSTU\\patent_search\\venv\\Lib\\site-packages\\threadpoolctl.py:1214: RuntimeWarning: \n",
      "Found Intel OpenMP ('libiomp') and LLVM OpenMP ('libomp') loaded at\n",
      "the same time. Both libraries are known to be incompatible and this\n",
      "can cause random crashes or deadlocks on Linux when loaded in the\n",
      "same Python program.\n",
      "Using threadpoolctl may cause crashes or deadlocks. For more\n",
      "information and possible workarounds, please see\n",
      "    https://github.com/joblib/threadpoolctl/blob/master/multiple_openmp.md\n",
      "\n",
      "  warnings.warn(msg, RuntimeWarning)\n",
      "D:\\Important\\Wlad\\Study\\BMSTU\\patent_search\\venv\\Lib\\site-packages\\transformers\\deepspeed.py:23: FutureWarning: transformers.deepspeed module is deprecated and will be removed in a future version. Please import deepspeed modules directly from transformers.integrations\n",
      "  warnings.warn(\n"
     ]
    }
   ],
   "execution_count": 18
  },
  {
   "metadata": {
    "ExecuteTime": {
     "end_time": "2024-05-31T22:13:33.472063Z",
     "start_time": "2024-05-31T22:13:33.252Z"
    }
   },
   "cell_type": "code",
   "source": "df['combined']=df[['abstract','title']].apply(lambda x: ' [SEP] '.join(x.astype(str)), axis=1)",
   "id": "c68f89275f07ae3b",
   "outputs": [],
   "execution_count": 24
  },
  {
   "metadata": {
    "ExecuteTime": {
     "end_time": "2024-06-01T02:20:37.621318Z",
     "start_time": "2024-06-01T02:20:37.607407Z"
    }
   },
   "cell_type": "code",
   "source": "df",
   "id": "35eba2911f0e536a",
   "outputs": [
    {
     "ename": "NameError",
     "evalue": "name 'df' is not defined",
     "output_type": "error",
     "traceback": [
      "\u001B[1;31m---------------------------------------------------------------------------\u001B[0m",
      "\u001B[1;31mNameError\u001B[0m                                 Traceback (most recent call last)",
      "Cell \u001B[1;32mIn[34], line 1\u001B[0m\n\u001B[1;32m----> 1\u001B[0m \u001B[43mdf\u001B[49m\n",
      "\u001B[1;31mNameError\u001B[0m: name 'df' is not defined"
     ]
    }
   ],
   "execution_count": 34
  },
  {
   "metadata": {
    "ExecuteTime": {
     "end_time": "2024-05-31T22:12:22.301901Z",
     "start_time": "2024-05-31T22:12:20.723217Z"
    }
   },
   "cell_type": "code",
   "source": "pip install torch torchvision torchaudio --index-url https://download.pytorch.org/whl/cu121",
   "id": "eca189fa6bf4d7c3",
   "outputs": [
    {
     "name": "stdout",
     "output_type": "stream",
     "text": [
      "Looking in indexes: https://download.pytorch.org/whl/cu121\n",
      "Requirement already satisfied: torch in d:\\important\\wlad\\study\\bmstu\\patent_search\\venv\\lib\\site-packages (2.3.0+cu121)\n",
      "Requirement already satisfied: torchvision in d:\\important\\wlad\\study\\bmstu\\patent_search\\venv\\lib\\site-packages (0.18.0+cu121)\n",
      "Requirement already satisfied: torchaudio in d:\\important\\wlad\\study\\bmstu\\patent_search\\venv\\lib\\site-packages (2.3.0+cu121)\n",
      "Requirement already satisfied: filelock in d:\\important\\wlad\\study\\bmstu\\patent_search\\venv\\lib\\site-packages (from torch) (3.14.0)\n",
      "Requirement already satisfied: typing-extensions>=4.8.0 in d:\\important\\wlad\\study\\bmstu\\patent_search\\venv\\lib\\site-packages (from torch) (4.12.0)\n",
      "Requirement already satisfied: sympy in d:\\important\\wlad\\study\\bmstu\\patent_search\\venv\\lib\\site-packages (from torch) (1.12.1)\n",
      "Requirement already satisfied: networkx in d:\\important\\wlad\\study\\bmstu\\patent_search\\venv\\lib\\site-packages (from torch) (3.3)\n",
      "Requirement already satisfied: jinja2 in d:\\important\\wlad\\study\\bmstu\\patent_search\\venv\\lib\\site-packages (from torch) (3.1.4)\n",
      "Requirement already satisfied: fsspec in d:\\important\\wlad\\study\\bmstu\\patent_search\\venv\\lib\\site-packages (from torch) (2024.5.0)\n",
      "Requirement already satisfied: mkl<=2021.4.0,>=2021.1.1 in d:\\important\\wlad\\study\\bmstu\\patent_search\\venv\\lib\\site-packages (from torch) (2021.4.0)\n",
      "Requirement already satisfied: numpy in d:\\important\\wlad\\study\\bmstu\\patent_search\\venv\\lib\\site-packages (from torchvision) (1.24.2)\n",
      "Requirement already satisfied: pillow!=8.3.*,>=5.3.0 in d:\\important\\wlad\\study\\bmstu\\patent_search\\venv\\lib\\site-packages (from torchvision) (10.3.0)\n",
      "Requirement already satisfied: intel-openmp==2021.* in d:\\important\\wlad\\study\\bmstu\\patent_search\\venv\\lib\\site-packages (from mkl<=2021.4.0,>=2021.1.1->torch) (2021.4.0)\n",
      "Requirement already satisfied: tbb==2021.* in d:\\important\\wlad\\study\\bmstu\\patent_search\\venv\\lib\\site-packages (from mkl<=2021.4.0,>=2021.1.1->torch) (2021.12.0)\n",
      "Requirement already satisfied: MarkupSafe>=2.0 in d:\\important\\wlad\\study\\bmstu\\patent_search\\venv\\lib\\site-packages (from jinja2->torch) (2.1.5)\n",
      "Requirement already satisfied: mpmath<1.4.0,>=1.1.0 in d:\\important\\wlad\\study\\bmstu\\patent_search\\venv\\lib\\site-packages (from sympy->torch) (1.3.0)\n",
      "Note: you may need to restart the kernel to use updated packages.\n"
     ]
    },
    {
     "name": "stderr",
     "output_type": "stream",
     "text": [
      "\n",
      "[notice] A new release of pip is available: 23.2.1 -> 24.0\n",
      "[notice] To update, run: python.exe -m pip install --upgrade pip\n"
     ]
    }
   ],
   "execution_count": 20
  },
  {
   "metadata": {
    "ExecuteTime": {
     "end_time": "2024-05-31T22:13:53.318857Z",
     "start_time": "2024-05-31T22:13:51.479843Z"
    }
   },
   "cell_type": "code",
   "source": [
    "model = SentenceTransformer('sentence-transformers/all-mpnet-base-v2')\n",
    "\n",
    "#if torch.cuda.is_available(): \n",
    "model = model.to(torch.device(\"cuda\"))\n",
    "print(model.device)"
   ],
   "id": "bf7721ae3cb88ad7",
   "outputs": [
    {
     "name": "stderr",
     "output_type": "stream",
     "text": [
      "D:\\Important\\Wlad\\Study\\BMSTU\\patent_search\\venv\\Lib\\site-packages\\huggingface_hub\\file_download.py:1132: FutureWarning: `resume_download` is deprecated and will be removed in version 1.0.0. Downloads always resume when possible. If you want to force a new download, use `force_download=True`.\n",
      "  warnings.warn(\n",
      "loading configuration file config.json from cache at C:\\Users\\Wlad\\.cache\\huggingface\\hub\\models--sentence-transformers--all-mpnet-base-v2\\snapshots\\84f2bcc00d77236f9e89c8a360a00fb1139bf47d\\config.json\n",
      "Model config MPNetConfig {\n",
      "  \"_name_or_path\": \"sentence-transformers/all-mpnet-base-v2\",\n",
      "  \"architectures\": [\n",
      "    \"MPNetForMaskedLM\"\n",
      "  ],\n",
      "  \"attention_probs_dropout_prob\": 0.1,\n",
      "  \"bos_token_id\": 0,\n",
      "  \"eos_token_id\": 2,\n",
      "  \"hidden_act\": \"gelu\",\n",
      "  \"hidden_dropout_prob\": 0.1,\n",
      "  \"hidden_size\": 768,\n",
      "  \"initializer_range\": 0.02,\n",
      "  \"intermediate_size\": 3072,\n",
      "  \"layer_norm_eps\": 1e-05,\n",
      "  \"max_position_embeddings\": 514,\n",
      "  \"model_type\": \"mpnet\",\n",
      "  \"num_attention_heads\": 12,\n",
      "  \"num_hidden_layers\": 12,\n",
      "  \"pad_token_id\": 1,\n",
      "  \"relative_attention_num_buckets\": 32,\n",
      "  \"transformers_version\": \"4.41.1\",\n",
      "  \"vocab_size\": 30527\n",
      "}\n",
      "\n",
      "loading weights file model.safetensors from cache at C:\\Users\\Wlad\\.cache\\huggingface\\hub\\models--sentence-transformers--all-mpnet-base-v2\\snapshots\\84f2bcc00d77236f9e89c8a360a00fb1139bf47d\\model.safetensors\n",
      "All model checkpoint weights were used when initializing MPNetModel.\n",
      "\n",
      "All the weights of MPNetModel were initialized from the model checkpoint at sentence-transformers/all-mpnet-base-v2.\n",
      "If your task is similar to the task the model of the checkpoint was trained on, you can already use MPNetModel for predictions without further training.\n",
      "loading file vocab.txt from cache at C:\\Users\\Wlad\\.cache\\huggingface\\hub\\models--sentence-transformers--all-mpnet-base-v2\\snapshots\\84f2bcc00d77236f9e89c8a360a00fb1139bf47d\\vocab.txt\n",
      "loading file tokenizer.json from cache at C:\\Users\\Wlad\\.cache\\huggingface\\hub\\models--sentence-transformers--all-mpnet-base-v2\\snapshots\\84f2bcc00d77236f9e89c8a360a00fb1139bf47d\\tokenizer.json\n",
      "loading file added_tokens.json from cache at None\n",
      "loading file special_tokens_map.json from cache at C:\\Users\\Wlad\\.cache\\huggingface\\hub\\models--sentence-transformers--all-mpnet-base-v2\\snapshots\\84f2bcc00d77236f9e89c8a360a00fb1139bf47d\\special_tokens_map.json\n",
      "loading file tokenizer_config.json from cache at C:\\Users\\Wlad\\.cache\\huggingface\\hub\\models--sentence-transformers--all-mpnet-base-v2\\snapshots\\84f2bcc00d77236f9e89c8a360a00fb1139bf47d\\tokenizer_config.json\n"
     ]
    },
    {
     "name": "stdout",
     "output_type": "stream",
     "text": [
      "cuda:0\n"
     ]
    }
   ],
   "execution_count": 26
  },
  {
   "metadata": {},
   "cell_type": "code",
   "outputs": [],
   "execution_count": null,
   "source": "",
   "id": "2477f1b243ff6cd4"
  },
  {
   "metadata": {
    "ExecuteTime": {
     "end_time": "2024-05-31T22:19:09.625060Z",
     "start_time": "2024-05-31T22:18:48.486252Z"
    }
   },
   "cell_type": "code",
   "source": "embeddings_active= model.encode(df.combined.to_list(), show_progress_bar=True)",
   "id": "e1358cd807b313d6",
   "outputs": [
    {
     "data": {
      "text/plain": [
       "Batches:   0%|          | 0/262 [00:00<?, ?it/s]"
      ],
      "application/vnd.jupyter.widget-view+json": {
       "version_major": 2,
       "version_minor": 0,
       "model_id": "3dea111e56ae4f4b95205b94258f312b"
      }
     },
     "metadata": {},
     "output_type": "display_data"
    }
   ],
   "execution_count": 29
  },
  {
   "metadata": {
    "ExecuteTime": {
     "end_time": "2024-05-31T22:19:14.671143Z",
     "start_time": "2024-05-31T22:19:14.667729Z"
    }
   },
   "cell_type": "code",
   "source": "print(embeddings_active.shape)",
   "id": "ccf299c28e013318",
   "outputs": [
    {
     "name": "stdout",
     "output_type": "stream",
     "text": [
      "(8360, 768)\n"
     ]
    }
   ],
   "execution_count": 30
  },
  {
   "metadata": {
    "ExecuteTime": {
     "end_time": "2024-05-31T22:23:07.363713Z",
     "start_time": "2024-05-31T22:23:07.330606Z"
    }
   },
   "cell_type": "code",
   "source": [
    "import re\n",
    "pattern = r'\\d+'\n",
    "extract_numeric = lambda row: re.search(pattern, row['publication_number']).group()\n",
    "df['numeric_value'] = df.apply(extract_numeric, axis=1)"
   ],
   "id": "b01ebff7c10fd133",
   "outputs": [],
   "execution_count": 32
  },
  {
   "metadata": {
    "ExecuteTime": {
     "end_time": "2024-05-31T22:23:17.562723Z",
     "start_time": "2024-05-31T22:23:17.555242Z"
    }
   },
   "cell_type": "code",
   "source": "df",
   "id": "9a15be8f82f05e78",
   "outputs": [
    {
     "data": {
      "text/plain": [
       "                                              self_link  \\\n",
       "0      https://patents.google.com/patent/JP5522034B2/en   \n",
       "1      https://patents.google.com/patent/JP5090871B2/en   \n",
       "2      https://patents.google.com/patent/JP5177835B2/en   \n",
       "3      https://patents.google.com/patent/JP6247200B2/en   \n",
       "4     https://patents.google.com/patent/CN106061689B/en   \n",
       "...                                                 ...   \n",
       "8355   https://patents.google.com/patent/JP6454857B2/en   \n",
       "8356   https://patents.google.com/patent/JP7124880B2/en   \n",
       "8357   https://patents.google.com/patent/JP5085907B2/en   \n",
       "8358  https://patents.google.com/patent/CN112099626B/en   \n",
       "8359  https://patents.google.com/patent/CN110531952B/en   \n",
       "\n",
       "                                                  title  \\\n",
       "0                                          Robot system   \n",
       "1                                       Robot equipment   \n",
       "2                          Double-arm robot manipulator   \n",
       "3     Tool adapter for robot wrist and robot with to...   \n",
       "4     Manipulator, robot and workpiece method of ope...   \n",
       "...                                                 ...   \n",
       "8355  Posture detection apparatus and posture detect...   \n",
       "8356                                       robot system   \n",
       "8357               Jack control device for work vehicle   \n",
       "8358  Interface display method, interface display de...   \n",
       "8359  Voice skill processing method, device and equi...   \n",
       "\n",
       "                                               abstract publication_number  \\\n",
       "0                                                   NaN        JP5522034B2   \n",
       "1                                                   NaN        JP5090871B2   \n",
       "2                                                   NaN        JP5177835B2   \n",
       "3                                                   NaN        JP6247200B2   \n",
       "4     The present invention relates to a kind of man...       CN106061689B   \n",
       "...                                                 ...                ...   \n",
       "8355                                                NaN        JP6454857B2   \n",
       "8356                                                NaN        JP7124880B2   \n",
       "8357                                                NaN        JP5085907B2   \n",
       "8358  The application discloses an interface display...       CN112099626B   \n",
       "8359  The application discloses a processing method,...       CN110531952B   \n",
       "\n",
       "            date    inventors                                current_assignee  \\\n",
       "0     2009-03-13   雅人 伊藤,学 岡久                           Yaskawa Electric Corp   \n",
       "1     2007-11-27        和宏 埴谷                           Yaskawa Electric Corp   \n",
       "2     2007-04-27   雅人 伊藤,学 岡久                           Yaskawa Electric Corp   \n",
       "3     2014-12-10  賢明 加藤,賢明 加藤                                      FANUC Corp   \n",
       "4     2014-02-28    扫部雅幸,高山裕规                             Kawasaki Motors Ltd   \n",
       "...          ...          ...                                             ...   \n",
       "8355  2015-05-27  秀夫 熊谷,秀夫 熊谷                           Tamagawa Seiki Co Ltd   \n",
       "8356  2018-10-16   毅 伊藤,公徳 西村                           Yaskawa Electric Corp   \n",
       "8357  2006-09-28        孝明 大葉                                      Aichi Corp   \n",
       "8358  2020-09-01           韩桐                Vivo Mobile Communication Co Ltd   \n",
       "8359  2019-08-30          戚耀文  Baidu Online Network Technology Beijing Co Ltd   \n",
       "\n",
       "      status                                           combined numeric_value  \n",
       "0     Active                             nan [SEP] Robot system       5522034  \n",
       "1     Active                          nan [SEP] Robot equipment       5090871  \n",
       "2     Active             nan [SEP] Double-arm robot manipulator       5177835  \n",
       "3     Active  nan [SEP] Tool adapter for robot wrist and rob...       6247200  \n",
       "4     Active  The present invention relates to a kind of man...     106061689  \n",
       "...      ...                                                ...           ...  \n",
       "8355  Active  nan [SEP] Posture detection apparatus and post...       6454857  \n",
       "8356  Active                             nan [SEP] robot system       7124880  \n",
       "8357  Active     nan [SEP] Jack control device for work vehicle       5085907  \n",
       "8358  Active  The application discloses an interface display...     112099626  \n",
       "8359  Active  The application discloses a processing method,...     110531952  \n",
       "\n",
       "[8360 rows x 10 columns]"
      ],
      "text/html": [
       "<div>\n",
       "<style scoped>\n",
       "    .dataframe tbody tr th:only-of-type {\n",
       "        vertical-align: middle;\n",
       "    }\n",
       "\n",
       "    .dataframe tbody tr th {\n",
       "        vertical-align: top;\n",
       "    }\n",
       "\n",
       "    .dataframe thead th {\n",
       "        text-align: right;\n",
       "    }\n",
       "</style>\n",
       "<table border=\"1\" class=\"dataframe\">\n",
       "  <thead>\n",
       "    <tr style=\"text-align: right;\">\n",
       "      <th></th>\n",
       "      <th>self_link</th>\n",
       "      <th>title</th>\n",
       "      <th>abstract</th>\n",
       "      <th>publication_number</th>\n",
       "      <th>date</th>\n",
       "      <th>inventors</th>\n",
       "      <th>current_assignee</th>\n",
       "      <th>status</th>\n",
       "      <th>combined</th>\n",
       "      <th>numeric_value</th>\n",
       "    </tr>\n",
       "  </thead>\n",
       "  <tbody>\n",
       "    <tr>\n",
       "      <th>0</th>\n",
       "      <td>https://patents.google.com/patent/JP5522034B2/en</td>\n",
       "      <td>Robot system</td>\n",
       "      <td>NaN</td>\n",
       "      <td>JP5522034B2</td>\n",
       "      <td>2009-03-13</td>\n",
       "      <td>雅人 伊藤,学 岡久</td>\n",
       "      <td>Yaskawa Electric Corp</td>\n",
       "      <td>Active</td>\n",
       "      <td>nan [SEP] Robot system</td>\n",
       "      <td>5522034</td>\n",
       "    </tr>\n",
       "    <tr>\n",
       "      <th>1</th>\n",
       "      <td>https://patents.google.com/patent/JP5090871B2/en</td>\n",
       "      <td>Robot equipment</td>\n",
       "      <td>NaN</td>\n",
       "      <td>JP5090871B2</td>\n",
       "      <td>2007-11-27</td>\n",
       "      <td>和宏 埴谷</td>\n",
       "      <td>Yaskawa Electric Corp</td>\n",
       "      <td>Active</td>\n",
       "      <td>nan [SEP] Robot equipment</td>\n",
       "      <td>5090871</td>\n",
       "    </tr>\n",
       "    <tr>\n",
       "      <th>2</th>\n",
       "      <td>https://patents.google.com/patent/JP5177835B2/en</td>\n",
       "      <td>Double-arm robot manipulator</td>\n",
       "      <td>NaN</td>\n",
       "      <td>JP5177835B2</td>\n",
       "      <td>2007-04-27</td>\n",
       "      <td>雅人 伊藤,学 岡久</td>\n",
       "      <td>Yaskawa Electric Corp</td>\n",
       "      <td>Active</td>\n",
       "      <td>nan [SEP] Double-arm robot manipulator</td>\n",
       "      <td>5177835</td>\n",
       "    </tr>\n",
       "    <tr>\n",
       "      <th>3</th>\n",
       "      <td>https://patents.google.com/patent/JP6247200B2/en</td>\n",
       "      <td>Tool adapter for robot wrist and robot with to...</td>\n",
       "      <td>NaN</td>\n",
       "      <td>JP6247200B2</td>\n",
       "      <td>2014-12-10</td>\n",
       "      <td>賢明 加藤,賢明 加藤</td>\n",
       "      <td>FANUC Corp</td>\n",
       "      <td>Active</td>\n",
       "      <td>nan [SEP] Tool adapter for robot wrist and rob...</td>\n",
       "      <td>6247200</td>\n",
       "    </tr>\n",
       "    <tr>\n",
       "      <th>4</th>\n",
       "      <td>https://patents.google.com/patent/CN106061689B/en</td>\n",
       "      <td>Manipulator, robot and workpiece method of ope...</td>\n",
       "      <td>The present invention relates to a kind of man...</td>\n",
       "      <td>CN106061689B</td>\n",
       "      <td>2014-02-28</td>\n",
       "      <td>扫部雅幸,高山裕规</td>\n",
       "      <td>Kawasaki Motors Ltd</td>\n",
       "      <td>Active</td>\n",
       "      <td>The present invention relates to a kind of man...</td>\n",
       "      <td>106061689</td>\n",
       "    </tr>\n",
       "    <tr>\n",
       "      <th>...</th>\n",
       "      <td>...</td>\n",
       "      <td>...</td>\n",
       "      <td>...</td>\n",
       "      <td>...</td>\n",
       "      <td>...</td>\n",
       "      <td>...</td>\n",
       "      <td>...</td>\n",
       "      <td>...</td>\n",
       "      <td>...</td>\n",
       "      <td>...</td>\n",
       "    </tr>\n",
       "    <tr>\n",
       "      <th>8355</th>\n",
       "      <td>https://patents.google.com/patent/JP6454857B2/en</td>\n",
       "      <td>Posture detection apparatus and posture detect...</td>\n",
       "      <td>NaN</td>\n",
       "      <td>JP6454857B2</td>\n",
       "      <td>2015-05-27</td>\n",
       "      <td>秀夫 熊谷,秀夫 熊谷</td>\n",
       "      <td>Tamagawa Seiki Co Ltd</td>\n",
       "      <td>Active</td>\n",
       "      <td>nan [SEP] Posture detection apparatus and post...</td>\n",
       "      <td>6454857</td>\n",
       "    </tr>\n",
       "    <tr>\n",
       "      <th>8356</th>\n",
       "      <td>https://patents.google.com/patent/JP7124880B2/en</td>\n",
       "      <td>robot system</td>\n",
       "      <td>NaN</td>\n",
       "      <td>JP7124880B2</td>\n",
       "      <td>2018-10-16</td>\n",
       "      <td>毅 伊藤,公徳 西村</td>\n",
       "      <td>Yaskawa Electric Corp</td>\n",
       "      <td>Active</td>\n",
       "      <td>nan [SEP] robot system</td>\n",
       "      <td>7124880</td>\n",
       "    </tr>\n",
       "    <tr>\n",
       "      <th>8357</th>\n",
       "      <td>https://patents.google.com/patent/JP5085907B2/en</td>\n",
       "      <td>Jack control device for work vehicle</td>\n",
       "      <td>NaN</td>\n",
       "      <td>JP5085907B2</td>\n",
       "      <td>2006-09-28</td>\n",
       "      <td>孝明 大葉</td>\n",
       "      <td>Aichi Corp</td>\n",
       "      <td>Active</td>\n",
       "      <td>nan [SEP] Jack control device for work vehicle</td>\n",
       "      <td>5085907</td>\n",
       "    </tr>\n",
       "    <tr>\n",
       "      <th>8358</th>\n",
       "      <td>https://patents.google.com/patent/CN112099626B/en</td>\n",
       "      <td>Interface display method, interface display de...</td>\n",
       "      <td>The application discloses an interface display...</td>\n",
       "      <td>CN112099626B</td>\n",
       "      <td>2020-09-01</td>\n",
       "      <td>韩桐</td>\n",
       "      <td>Vivo Mobile Communication Co Ltd</td>\n",
       "      <td>Active</td>\n",
       "      <td>The application discloses an interface display...</td>\n",
       "      <td>112099626</td>\n",
       "    </tr>\n",
       "    <tr>\n",
       "      <th>8359</th>\n",
       "      <td>https://patents.google.com/patent/CN110531952B/en</td>\n",
       "      <td>Voice skill processing method, device and equi...</td>\n",
       "      <td>The application discloses a processing method,...</td>\n",
       "      <td>CN110531952B</td>\n",
       "      <td>2019-08-30</td>\n",
       "      <td>戚耀文</td>\n",
       "      <td>Baidu Online Network Technology Beijing Co Ltd</td>\n",
       "      <td>Active</td>\n",
       "      <td>The application discloses a processing method,...</td>\n",
       "      <td>110531952</td>\n",
       "    </tr>\n",
       "  </tbody>\n",
       "</table>\n",
       "<p>8360 rows × 10 columns</p>\n",
       "</div>"
      ]
     },
     "execution_count": 33,
     "metadata": {},
     "output_type": "execute_result"
    }
   ],
   "execution_count": 33
  },
  {
   "metadata": {
    "ExecuteTime": {
     "end_time": "2024-05-31T22:23:42.491525Z",
     "start_time": "2024-05-31T22:23:42.461396Z"
    }
   },
   "cell_type": "code",
   "source": [
    "embeddings = np.array([_ for _ in embeddings_active]).astype(\"float32\")\n",
    "index = faiss.IndexFlatL2(embeddings.shape[1])\n",
    "index = faiss.IndexIDMap(index)\n",
    "index.add_with_ids(embeddings, df.numeric_value.values)\n"
   ],
   "id": "a2ff9e07974a9563",
   "outputs": [],
   "execution_count": 34
  },
  {
   "metadata": {
    "ExecuteTime": {
     "end_time": "2024-05-31T22:23:54.993535Z",
     "start_time": "2024-05-31T22:23:54.989229Z"
    }
   },
   "cell_type": "code",
   "source": [
    "def indx(df, I):\n",
    "    I=I.flatten().tolist()\n",
    "    return [df.loc[df.numeric_value == str(idx)].to_dict(orient='records') for idx in I]\n",
    "    \n",
    "def search(query, model, index, num_results):\n",
    "  vector = model.encode(list(query))\n",
    "  D, I = index.search(np.array(vector).astype(\"float32\"), k=num_results)\n",
    "  return D, I"
   ],
   "id": "c2ca74acb2fdd267",
   "outputs": [],
   "execution_count": 35
  },
  {
   "metadata": {
    "ExecuteTime": {
     "end_time": "2024-05-31T22:35:36.735710Z",
     "start_time": "2024-05-31T22:35:36.672675Z"
    }
   },
   "cell_type": "code",
   "source": [
    "query=\"reinforcement learning control unit\"\n",
    "D, I = search([query], model, index, num_results=10)\n",
    "print(f'Distance: {D.flatten().tolist()}\\n\\Publication_number: {I.flatten().tolist()}')"
   ],
   "id": "abb6f6eb2719bbb6",
   "outputs": [
    {
     "name": "stdout",
     "output_type": "stream",
     "text": [
      "Distance: [0.7687191963195801, 0.8032771348953247, 0.8688740730285645, 0.8856105208396912, 0.8871434926986694, 0.8896166682243347, 0.8939615488052368, 0.9052766561508179, 0.9062060117721558, 0.9285231828689575]\n",
      "\\Publication_number: [11842281, 113485107, 115494879, 10789511, 11593646, 112840359, 11074481, 11062617, 112550314, 114114911]\n"
     ]
    }
   ],
   "execution_count": 45
  },
  {
   "metadata": {
    "ExecuteTime": {
     "end_time": "2024-05-31T22:35:38.097465Z",
     "start_time": "2024-05-31T22:35:38.086310Z"
    }
   },
   "cell_type": "code",
   "source": [
    "res=indx(df, I)\n",
    "for i in res:\n",
    "  print(i[0])"
   ],
   "id": "d45a02dd4a9b04fb",
   "outputs": [
    {
     "name": "stdout",
     "output_type": "stream",
     "text": [
      "{'self_link': 'https://patents.google.com/patent/US11842281B2/en', 'title': 'Reinforcement learning with auxiliary tasks', 'abstract': 'Methods, systems, and apparatus, including computer programs encoded on a computer storage medium, for training a reinforcement learning system. The method includes: training an action selection policy neural network, and during the training of the action selection neural network, training one or more auxiliary control neural networks and a reward prediction neural network. Each of the auxiliary control neural networks is configured to receive a respective intermediate output generated by the action selection policy neural network and generate a policy output for a corresponding auxiliary control task. The reward prediction neural network is configured to receive one or more intermediate outputs generated by the action selection policy neural network and generate a corresponding predicted reward. Training each of the auxiliary control neural networks and the reward prediction neural network comprises adjusting values of the respective auxiliary control parameters, reward prediction parameters, and the action selection policy network parameters.', 'publication_number': 'US11842281B2', 'date': '2021-02-24', 'inventors': 'Volodymyr Mnih,Wojciech Czarnecki,Maxwell Elliot Jaderberg,Tom Schaul,David Silver,Koray Kavukcuoglu', 'current_assignee': 'DeepMind Technologies Ltd', 'status': 'Active', 'combined': 'Methods, systems, and apparatus, including computer programs encoded on a computer storage medium, for training a reinforcement learning system. The method includes: training an action selection policy neural network, and during the training of the action selection neural network, training one or more auxiliary control neural networks and a reward prediction neural network. Each of the auxiliary control neural networks is configured to receive a respective intermediate output generated by the action selection policy neural network and generate a policy output for a corresponding auxiliary control task. The reward prediction neural network is configured to receive one or more intermediate outputs generated by the action selection policy neural network and generate a corresponding predicted reward. Training each of the auxiliary control neural networks and the reward prediction neural network comprises adjusting values of the respective auxiliary control parameters, reward prediction parameters, and the action selection policy network parameters. [SEP] Reinforcement learning with auxiliary tasks', 'numeric_value': '11842281'}\n",
      "{'self_link': 'https://patents.google.com/patent/CN113485107B/en', 'title': 'Reinforced learning robot control method and system based on consistency constraint modeling', 'abstract': 'The application relates to a reinforcement learning robot control method and system based on consistency constraint modeling, wherein the reinforcement learning robot control method comprises the following steps: initializing the environment and various network parameters; training an environment model using the interaction data with the real environment; using a policy network pi  φ  Interact with the trained environment model, and store interaction data in a data storage D  model  In (a) and (b); according to the environment model, performing strategy training by adopting a Soft Actor-Critic method; and repeatedly executing until convergence. The application can reduce modeling errors, increase the accuracy and the robustness of environmental modeling and improve the stability. The application can be widely applied in the field of robot control.', 'publication_number': 'CN113485107B', 'date': '2021-07-05', 'inventors': '李秀,贾若楠', 'current_assignee': 'Shenzhen International Graduate School of Tsinghua University', 'status': 'Active', 'combined': 'The application relates to a reinforcement learning robot control method and system based on consistency constraint modeling, wherein the reinforcement learning robot control method comprises the following steps: initializing the environment and various network parameters; training an environment model using the interaction data with the real environment; using a policy network pi  φ  Interact with the trained environment model, and store interaction data in a data storage D  model  In (a) and (b); according to the environment model, performing strategy training by adopting a Soft Actor-Critic method; and repeatedly executing until convergence. The application can reduce modeling errors, increase the accuracy and the robustness of environmental modeling and improve the stability. The application can be widely applied in the field of robot control. [SEP] Reinforced learning robot control method and system based on consistency constraint modeling', 'numeric_value': '113485107'}\n",
      "{'self_link': 'https://patents.google.com/patent/CN115494879B/en', 'title': 'Rotor unmanned aerial vehicle obstacle avoidance method, device and equipment based on reinforcement learning SAC', 'abstract': 'The invention relates to the technical field of unmanned aerial vehicle control, and discloses a rotor unmanned aerial vehicle obstacle avoidance method, device and equipment based on reinforcement learning SAC. The invention constructs a randomized map by utilizing a random environment generator; acquiring laser radar data, the speed of the rotor unmanned aerial vehicle and a relative target position as state input data, inputting the state input data into a trained deep reinforcement learning model, and outputting a predicted action instruction to guide the rotor unmanned aerial vehicle to avoid an obstacle; the model is constructed based on a reinforcement learning SAC algorithm and takes a randomized map as a simulation environment, and during training, a predicted action instruction is executed by the rotor unmanned aerial vehicle based on a state space, an action space and a reward function, and a reward value returned after interaction with the simulation environment is calculated and used for updating model network parameters, and model network output is smoothed based on an instruction filter in a test stage. The invention can solve the problem of distribution mismatch of the deep reinforcement learning algorithm while controlling the cost, and realize the obstacle avoidance of the rotor unmanned aerial vehicle with high robustness.', 'publication_number': 'CN115494879B', 'date': '2022-10-31', 'inventors': '侯治威,杨永盛,陈天兴,陈洪波', 'current_assignee': 'Sun Yat Sen University', 'status': 'Active', 'combined': 'The invention relates to the technical field of unmanned aerial vehicle control, and discloses a rotor unmanned aerial vehicle obstacle avoidance method, device and equipment based on reinforcement learning SAC. The invention constructs a randomized map by utilizing a random environment generator; acquiring laser radar data, the speed of the rotor unmanned aerial vehicle and a relative target position as state input data, inputting the state input data into a trained deep reinforcement learning model, and outputting a predicted action instruction to guide the rotor unmanned aerial vehicle to avoid an obstacle; the model is constructed based on a reinforcement learning SAC algorithm and takes a randomized map as a simulation environment, and during training, a predicted action instruction is executed by the rotor unmanned aerial vehicle based on a state space, an action space and a reward function, and a reward value returned after interaction with the simulation environment is calculated and used for updating model network parameters, and model network output is smoothed based on an instruction filter in a test stage. The invention can solve the problem of distribution mismatch of the deep reinforcement learning algorithm while controlling the cost, and realize the obstacle avoidance of the rotor unmanned aerial vehicle with high robustness. [SEP] Rotor unmanned aerial vehicle obstacle avoidance method, device and equipment based on reinforcement learning SAC', 'numeric_value': '115494879'}\n",
      "{'self_link': 'https://patents.google.com/patent/US10789511B2/en', 'title': 'Controlling agents over long time scales using temporal value transport', 'abstract': 'Methods, systems, and apparatus, including computer programs encoded on computer storage media, for training a neural network system used to control an agent interacting with an environment to perform a specified task. One of the methods includes causing the agent to perform a task episode in which the agent attempts to perform the specified task; for each of one or more particular time steps in the sequence: generating a modified reward for the particular time step from (i) the actual reward at the time step and (ii) value predictions at one or more time steps that are more than a threshold number of time steps after the particular time step in the sequence; and training, through reinforcement learning, the neural network system using at least the modified rewards for the particular time steps.', 'publication_number': 'US10789511B2', 'date': '2019-10-14', 'inventors': 'Gregory Duncan Wayne,Timothy Paul Lillicrap,Chia-Chun Hung,Joshua Simon Abramson', 'current_assignee': 'DeepMind Technologies Ltd', 'status': 'Active', 'combined': 'Methods, systems, and apparatus, including computer programs encoded on computer storage media, for training a neural network system used to control an agent interacting with an environment to perform a specified task. One of the methods includes causing the agent to perform a task episode in which the agent attempts to perform the specified task; for each of one or more particular time steps in the sequence: generating a modified reward for the particular time step from (i) the actual reward at the time step and (ii) value predictions at one or more time steps that are more than a threshold number of time steps after the particular time step in the sequence; and training, through reinforcement learning, the neural network system using at least the modified rewards for the particular time steps. [SEP] Controlling agents over long time scales using temporal value transport', 'numeric_value': '10789511'}\n",
      "{'self_link': 'https://patents.google.com/patent/US11593646B2/en', 'title': 'Distributed training using actor-critic reinforcement learning with off-policy correction factors', 'abstract': 'Methods, systems, and apparatus, including computer programs encoded on a computer storage medium, for training an action selection neural network used to select actions to be performed by an agent interacting with an environment. In one aspect, a system comprises a plurality of actor computing units and a plurality of learner computing units. The actor computing units generate experience tuple trajectories that are used by the learner computing units to update learner action selection neural network parameters using a reinforcement learning technique. The reinforcement learning technique may be an off-policy actor critic reinforcement learning technique.', 'publication_number': 'US11593646B2', 'date': '2019-02-05', 'inventors': 'Hubert Josef Soyer,Lasse ESPEHOLT,Karen Simonyan,Yotam Doron,Vlad Firoiu,Volodymyr Mnih,Koray Kavukcuoglu,Remi MUNOS,Thomas Ward,Timothy James Alexander Harley,Iain Robert Dunning', 'current_assignee': 'DeepMind Technologies Ltd', 'status': 'Active', 'combined': 'Methods, systems, and apparatus, including computer programs encoded on a computer storage medium, for training an action selection neural network used to select actions to be performed by an agent interacting with an environment. In one aspect, a system comprises a plurality of actor computing units and a plurality of learner computing units. The actor computing units generate experience tuple trajectories that are used by the learner computing units to update learner action selection neural network parameters using a reinforcement learning technique. The reinforcement learning technique may be an off-policy actor critic reinforcement learning technique. [SEP] Distributed training using actor-critic reinforcement learning with off-policy correction factors', 'numeric_value': '11593646'}\n",
      "{'self_link': 'https://patents.google.com/patent/CN112840359B/en', 'title': 'Controlling agents on a long time scale by using time value transfer', 'abstract': 'The present invention relates to methods, systems, and apparatus, including computer programs encoded on computer storage media, for training a neural network system for controlling agents interacting with an environment to perform specified tasks. One of the methods includes: causing the agent to perform a task scenario in which the agent attempts to perform a specified task; for each of one or more particular time steps in the sequence: generating a modified reward for the particular time step based on (i) the actual reward at the time step, and (ii) a prediction of values at one or more time steps in the sequence that are more than a threshold number of time steps after the particular time step; and training the neural network system by reinforcement learning by using a modified reward for at least a particular time step.', 'publication_number': 'CN112840359B', 'date': '2019-10-14', 'inventors': '格雷戈里·邓肯·韦恩,蒂莫西·保罗·利利克拉普,洪嘉君,乔舒亚·西蒙·阿布拉姆松', 'current_assignee': 'DeepMind Technologies Ltd', 'status': 'Active', 'combined': 'The present invention relates to methods, systems, and apparatus, including computer programs encoded on computer storage media, for training a neural network system for controlling agents interacting with an environment to perform specified tasks. One of the methods includes: causing the agent to perform a task scenario in which the agent attempts to perform a specified task; for each of one or more particular time steps in the sequence: generating a modified reward for the particular time step based on (i) the actual reward at the time step, and (ii) a prediction of values at one or more time steps in the sequence that are more than a threshold number of time steps after the particular time step; and training the neural network system by reinforcement learning by using a modified reward for at least a particular time step. [SEP] Controlling agents on a long time scale by using time value transfer', 'numeric_value': '112840359'}\n",
      "{'self_link': 'https://patents.google.com/patent/US11074481B2/en', 'title': 'Environment navigation using reinforcement learning', 'abstract': 'Methods, systems, and apparatus, including computer programs encoded on a computer storage medium, for training a reinforcement learning system. In one aspect, a method of training an action selection policy neural network for use in selecting actions to be performed by an agent navigating through an environment to accomplish one or more goals comprises: receiving an observation image characterizing a current state of the environment; processing, using the action selection policy neural network, an input comprising the observation image to generate an action selection output; processing, using a geometry-prediction neural network, an intermediate output generated by the action selection policy neural network to predict a value of a feature of a geometry of the environment when in the current state; and backpropagating a gradient of a geometry-based auxiliary loss into the action selection policy neural network to determine a geometry-based auxiliary update for current values of the network parameters.', 'publication_number': 'US11074481B2', 'date': '2020-01-17', 'inventors': 'Fabio Viola,Piotr Wojciech Mirowski,Andrea Banino,Razvan Pascanu,Hubert Josef Soyer,Andrew James Ballard,Sudarshan Kumaran,Raia Thais Hadsell,Laurent Sifre,Rostislav Goroshin,Koray Kavukcuoglu,Misha Man Ray Denil', 'current_assignee': 'DeepMind Technologies Ltd', 'status': 'Active', 'combined': 'Methods, systems, and apparatus, including computer programs encoded on a computer storage medium, for training a reinforcement learning system. In one aspect, a method of training an action selection policy neural network for use in selecting actions to be performed by an agent navigating through an environment to accomplish one or more goals comprises: receiving an observation image characterizing a current state of the environment; processing, using the action selection policy neural network, an input comprising the observation image to generate an action selection output; processing, using a geometry-prediction neural network, an intermediate output generated by the action selection policy neural network to predict a value of a feature of a geometry of the environment when in the current state; and backpropagating a gradient of a geometry-based auxiliary loss into the action selection policy neural network to determine a geometry-based auxiliary update for current values of the network parameters. [SEP] Environment navigation using reinforcement learning', 'numeric_value': '11074481'}\n",
      "{'self_link': 'https://patents.google.com/patent/US11062617B2/en', 'title': 'Training system for autonomous driving control policy', 'abstract': 'The invention discloses a training system for autonomous driving control policy, which comprises a simulator construction module based on machine learning, a driving control policy search module based on confrontation learning, and a driving control policy model transfer module.', 'publication_number': 'US11062617B2', 'date': '2019-07-12', 'inventors': 'Rongjun QIN', 'current_assignee': 'Polixir Technologies Ltd', 'status': 'Active', 'combined': 'The invention discloses a training system for autonomous driving control policy, which comprises a simulator construction module based on machine learning, a driving control policy search module based on confrontation learning, and a driving control policy model transfer module. [SEP] Training system for autonomous driving control policy', 'numeric_value': '11062617'}\n",
      "{'self_link': 'https://patents.google.com/patent/CN112550314B/en', 'title': 'Embedded optimization type control method suitable for unmanned driving, driving control module and automatic driving control system thereof', 'abstract': 'The invention discloses an embedded optimization type control method suitable for unmanned driving, a driving control module and an automatic driving control system thereof, wherein the learning method comprises the steps of establishing a driving decision problem and representing a driving strategy; establishing a neural network experience model; solving continuous driving decision variables; discrete driving decision variable learning; based on the requirements of the practical problems, for the control problems including continuous control, which are variable in application scenes and difficult to obtain in advance, the model-based method can be used for effectively searching the action space in reinforcement learning, and the driving strategy can be quickly iterated.', 'publication_number': 'CN112550314B', 'date': '2020-12-16', 'inventors': '张羽翔,王玉海,丛岩峰,高炳钊,陈虹', 'current_assignee': 'Qingdao Automotive Research Institute Jilin University', 'status': 'Active', 'combined': 'The invention discloses an embedded optimization type control method suitable for unmanned driving, a driving control module and an automatic driving control system thereof, wherein the learning method comprises the steps of establishing a driving decision problem and representing a driving strategy; establishing a neural network experience model; solving continuous driving decision variables; discrete driving decision variable learning; based on the requirements of the practical problems, for the control problems including continuous control, which are variable in application scenes and difficult to obtain in advance, the model-based method can be used for effectively searching the action space in reinforcement learning, and the driving strategy can be quickly iterated. [SEP] Embedded optimization type control method suitable for unmanned driving, driving control module and automatic driving control system thereof', 'numeric_value': '112550314'}\n",
      "{'self_link': 'https://patents.google.com/patent/CN114114911B/en', 'title': 'Automatic super-parameter adjusting method based on model reinforcement learning', 'abstract': 'The invention discloses an automatic super-parameter adjusting method based on model reinforcement learning, and relates to the field of reinforcement learning methods. The invention provides a method for modeling the adjustment process of the super parameter as a new Markov decision process and training a super parameter controller by using a reinforcement learning method. The hyper-parameter controller may automatically select actions to adjust corresponding hyper-parameters based on various states of the current training phase, such as model errors, strategic rewards, and the like. The performance of the model-based algorithm regulated by the super-parameter controller is far superior to that of the original model-based algorithm, and the labor cost for regulating the super-parameter can be saved, so that the method can be applied to the fields of automatic control and the like.', 'publication_number': 'CN114114911B', 'date': '2021-11-12', 'inventors': '张伟楠,赖行,沈键', 'current_assignee': 'Shanghai Jiaotong University', 'status': 'Active', 'combined': 'The invention discloses an automatic super-parameter adjusting method based on model reinforcement learning, and relates to the field of reinforcement learning methods. The invention provides a method for modeling the adjustment process of the super parameter as a new Markov decision process and training a super parameter controller by using a reinforcement learning method. The hyper-parameter controller may automatically select actions to adjust corresponding hyper-parameters based on various states of the current training phase, such as model errors, strategic rewards, and the like. The performance of the model-based algorithm regulated by the super-parameter controller is far superior to that of the original model-based algorithm, and the labor cost for regulating the super-parameter can be saved, so that the method can be applied to the fields of automatic control and the like. [SEP] Automatic super-parameter adjusting method based on model reinforcement learning', 'numeric_value': '114114911'}\n"
     ]
    }
   ],
   "execution_count": 46
  },
  {
   "metadata": {
    "ExecuteTime": {
     "end_time": "2024-05-31T23:06:35.427409Z",
     "start_time": "2024-05-31T23:06:35.423680Z"
    }
   },
   "cell_type": "code",
   "source": "import pickle",
   "id": "dbd17d52ad61b848",
   "outputs": [],
   "execution_count": 47
  },
  {
   "metadata": {
    "ExecuteTime": {
     "end_time": "2024-05-31T23:07:15.809826Z",
     "start_time": "2024-05-31T23:07:15.767599Z"
    }
   },
   "cell_type": "code",
   "source": [
    "with open(f\"D:\\Important\\Wlad\\Study\\BMSTU\\patent_search\\patentScraper\\patentScraper\\spiders\\index_active.pickle\", \"wb\") as h:\n",
    "    pickle.dump(faiss.serialize_index(index), h)"
   ],
   "id": "e4d8add3f27883cb",
   "outputs": [],
   "execution_count": 49
  },
  {
   "metadata": {
    "ExecuteTime": {
     "end_time": "2024-06-01T01:28:38.347954Z",
     "start_time": "2024-06-01T01:28:38.244066Z"
    }
   },
   "cell_type": "code",
   "source": "df",
   "id": "847b101cc1dfb7ef",
   "outputs": [
    {
     "ename": "NameError",
     "evalue": "name 'df' is not defined",
     "output_type": "error",
     "traceback": [
      "\u001B[1;31m---------------------------------------------------------------------------\u001B[0m",
      "\u001B[1;31mNameError\u001B[0m                                 Traceback (most recent call last)",
      "Cell \u001B[1;32mIn[11], line 1\u001B[0m\n\u001B[1;32m----> 1\u001B[0m \u001B[43mdf\u001B[49m\n",
      "\u001B[1;31mNameError\u001B[0m: name 'df' is not defined"
     ]
    }
   ],
   "execution_count": 11
  },
  {
   "metadata": {
    "ExecuteTime": {
     "end_time": "2024-05-31T23:13:39.300836Z",
     "start_time": "2024-05-31T23:13:39.047491Z"
    }
   },
   "cell_type": "code",
   "source": "df.to_csv('active_indexed.csv')",
   "id": "6d06b402615b293",
   "outputs": [],
   "execution_count": 51
  },
  {
   "metadata": {
    "ExecuteTime": {
     "end_time": "2024-05-31T23:21:18.027023Z",
     "start_time": "2024-05-31T23:21:16.636634Z"
    }
   },
   "cell_type": "code",
   "source": "pip install sentencepiece",
   "id": "b99d4d79ea1df862",
   "outputs": [
    {
     "name": "stdout",
     "output_type": "stream",
     "text": [
      "Requirement already satisfied: sentencepiece in d:\\important\\wlad\\study\\bmstu\\patent_search\\venv\\lib\\site-packages (0.2.0)Note: you may need to restart the kernel to use updated packages.\n"
     ]
    },
    {
     "name": "stderr",
     "output_type": "stream",
     "text": [
      "\n",
      "[notice] A new release of pip is available: 23.2.1 -> 24.0\n",
      "[notice] To update, run: python.exe -m pip install --upgrade pip\n"
     ]
    },
    {
     "name": "stdout",
     "output_type": "stream",
     "text": [
      "\n"
     ]
    }
   ],
   "execution_count": 54
  },
  {
   "metadata": {
    "ExecuteTime": {
     "end_time": "2024-06-01T01:38:37.355205Z",
     "start_time": "2024-06-01T01:38:33.518824Z"
    }
   },
   "cell_type": "code",
   "source": [
    "#1.2B\n",
    "from transformers import M2M100ForConditionalGeneration, M2M100Tokenizer\n",
    "import torch\n",
    "\n",
    "\n",
    "model = M2M100ForConditionalGeneration.from_pretrained(\"facebook/m2m100_1.2B\")\n",
    "tokenizer = M2M100Tokenizer.from_pretrained(\"facebook/m2m100_1.2B\")\n"
   ],
   "id": "7ee87dbb64906dc5",
   "outputs": [],
   "execution_count": 24
  },
  {
   "metadata": {
    "ExecuteTime": {
     "end_time": "2024-06-01T01:38:38.813175Z",
     "start_time": "2024-06-01T01:38:37.992950Z"
    }
   },
   "cell_type": "code",
   "source": [
    "model = model.to(torch.device(\"cuda\"))\n",
    "print(model.device)"
   ],
   "id": "18e16fdbf8a3e469",
   "outputs": [
    {
     "name": "stdout",
     "output_type": "stream",
     "text": [
      "cuda:0\n"
     ]
    }
   ],
   "execution_count": 25
  },
  {
   "metadata": {
    "ExecuteTime": {
     "end_time": "2024-06-01T03:02:06.025457Z",
     "start_time": "2024-06-01T03:02:06.022531Z"
    }
   },
   "cell_type": "code",
   "source": "text = \"Шлифовальный станок с программным числовым управлением\"",
   "id": "5b3a797145b48a67",
   "outputs": [],
   "execution_count": 55
  },
  {
   "metadata": {
    "ExecuteTime": {
     "end_time": "2024-06-01T03:02:08.096076Z",
     "start_time": "2024-06-01T03:02:07.463119Z"
    }
   },
   "cell_type": "code",
   "source": [
    "tokenizer.src_lang = \"ru\"\n",
    "encoded_zh = tokenizer(text, return_tensors=\"pt\").to(torch.device(\"cuda\"))\n",
    "generated_tokens = model.generate(**encoded_zh, forced_bos_token_id=tokenizer.get_lang_id(\"en\"))\n",
    "tokenizer.batch_decode(generated_tokens, skip_special_tokens=True)"
   ],
   "id": "98fcade1ad970fc7",
   "outputs": [
    {
     "data": {
      "text/plain": [
       "['Machine with software numerical control']"
      ]
     },
     "execution_count": 56,
     "metadata": {},
     "output_type": "execute_result"
    }
   ],
   "execution_count": 56
  },
  {
   "metadata": {
    "ExecuteTime": {
     "end_time": "2024-06-01T03:01:58.286779Z",
     "start_time": "2024-06-01T03:01:53.333635Z"
    }
   },
   "cell_type": "code",
   "source": [
    "#611M\n",
    "#https://huggingface.co/facebook/mbart-large-50-many-to-many-mmt\n",
    "from transformers import MBartForConditionalGeneration, MBart50TokenizerFast\n",
    "\n",
    "article_ar = \"Шлифовальный станок с программным числовым управлением\"\n",
    "\n",
    "model2 = MBartForConditionalGeneration.from_pretrained(\"facebook/mbart-large-50-many-to-many-mmt\").to(torch.device(\"cuda\"))\n",
    "tokenizer2 = MBart50TokenizerFast.from_pretrained(\"facebook/mbart-large-50-many-to-many-mmt\")\n",
    "\n",
    "# translate Arabic to English\n",
    "tokenizer2.src_lang = \"ru_RU\"\n",
    "encoded_ar = tokenizer2(article_ar, return_tensors=\"pt\").to(torch.device(\"cuda\"))\n",
    "generated_tokens = model2.generate(\n",
    "    **encoded_ar,\n",
    "    forced_bos_token_id=tokenizer2.lang_code_to_id[\"en_XX\"]\n",
    ")\n",
    "tokenizer2.batch_decode(generated_tokens, skip_special_tokens=True)\n",
    "# => \"The Secretary-General of the United Nations says there is no military solution in Syria.\"\n"
   ],
   "id": "9dfdd8d51aedff",
   "outputs": [
    {
     "data": {
      "text/plain": [
       "['Screwdriver with program number control']"
      ]
     },
     "execution_count": 54,
     "metadata": {},
     "output_type": "execute_result"
    }
   ],
   "execution_count": 54
  },
  {
   "metadata": {
    "ExecuteTime": {
     "end_time": "2024-06-01T05:20:38.765345Z",
     "start_time": "2024-06-01T05:20:35.511074Z"
    }
   },
   "cell_type": "code",
   "source": [
    "#851 миллионов параметров\n",
    "from transformers import T5ForConditionalGeneration, T5Tokenizer\n",
    "\n",
    "device = 'cuda' #or 'cpu' for translate on cpu\n",
    "\n",
    "model_name = 'utrobinmv/t5_translate_en_ru_zh_large_1024'\n",
    "model3 = T5ForConditionalGeneration.from_pretrained(model_name)\n",
    "model3.to(device)\n",
    "tokenizer3 = T5Tokenizer.from_pretrained(model_name)\n",
    "\n",
    "prefix = 'translate to en: '\n",
    "src_text = prefix + \"decision support system\"\n",
    "\n",
    "torch.cuda.reset_max_memory_allocated(device=None)\n",
    "\n",
    "# translate Russian to EN\n",
    "input_ids = tokenizer3(src_text, return_tensors=\"pt\")\n",
    "\n",
    "generated_tokens = model3.generate(**input_ids.to(device))\n",
    "\n",
    "\n",
    "print(f\"gpu used {torch.cuda.max_memory_allocated(device=None)} memory\")\n",
    "\n",
    "result = tokenizer3.batch_decode(generated_tokens, skip_special_tokens=True)\n",
    "print(result)"
   ],
   "id": "47d6c843c964b7cf",
   "outputs": [
    {
     "name": "stderr",
     "output_type": "stream",
     "text": [
      "Special tokens have been added in the vocabulary, make sure the associated word embeddings are fine-tuned or trained.\n"
     ]
    },
    {
     "name": "stdout",
     "output_type": "stream",
     "text": [
      "gpu used 11009406464 memory\n",
      "['Decision Support System']\n"
     ]
    }
   ],
   "execution_count": 64
  },
  {
   "metadata": {
    "ExecuteTime": {
     "end_time": "2024-06-01T05:37:31.451462Z",
     "start_time": "2024-06-01T05:37:31.448433Z"
    }
   },
   "cell_type": "code",
   "source": [
    "res= result[0] + \"hello\"\n",
    "print(res)"
   ],
   "id": "cc7abb983de9189",
   "outputs": [
    {
     "name": "stdout",
     "output_type": "stream",
     "text": [
      "Decision Support Systemhello\n"
     ]
    }
   ],
   "execution_count": 67
  },
  {
   "metadata": {},
   "cell_type": "code",
   "outputs": [],
   "execution_count": null,
   "source": "",
   "id": "5c17dec0a793ab70"
  }
 ],
 "metadata": {
  "kernelspec": {
   "name": "python3",
   "language": "python",
   "display_name": "Python 3 (ipykernel)"
  }
 },
 "nbformat": 5,
 "nbformat_minor": 9
}
